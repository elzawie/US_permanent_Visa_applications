{
 "cells": [
  {
   "cell_type": "markdown",
   "metadata": {
    "_cell_guid": "195b1bd3-262e-4e27-8349-321a36f66482",
    "_uuid": "d589352eba1c01f78b15ada4eb9d53e6f2ff7c41"
   },
   "source": [
    "# General information\n",
    "\n",
    "______________________"
   ]
  },
  {
   "cell_type": "markdown",
   "metadata": {
    "_cell_guid": "33cf7bed-3db2-4663-8b90-5c0525669fa8",
    "_uuid": "1892062c143e6d1e2198e9d3d7e865b666eeb5a1"
   },
   "source": [
    "The following Jupyter notebook was created in order to derive some meaningful insights from the US Permanent Visa Application decisions. Data covers years 2012 - 2017 and includes information on employer, position, wage offered, job posting history, employee education and past visa history, associated lawyers, and final decision. It was collected and distributed by the US Department of Labor. \n",
    "\n",
    "According to Kaggle's dataset context, a permanent labor certification issued by the Department of Labor (DOL) allows an employer to hire a foreign worker to work permanently in the United States. In most instances, before the U.S. employer can submit an immigration petition to the Department of Homeland Security's U.S. Citizenship and Immigration Services (USCIS), the employer must obtain a certified labor certification application from the DOL's Employment and Training Administration (ETA). The DOL must certify to the USCIS that there are not sufficient U.S. workers able, willing, qualified and available to accept the job opportunity in the area of intended employment and that employment of the foreign worker will not adversely affect the wages and working conditions of similarly employed U.S. workers.\n",
    "\n",
    "The goal of the below data analysis is checking the general trend in Visa applications, the most popular citizenships, employers, cities and finally, predicting the application decision based on the chosen features. "
   ]
  },
  {
   "cell_type": "markdown",
   "metadata": {
    "_cell_guid": "380abe99-d7c9-4a6b-8a19-9ec72bf24f19",
    "_uuid": "7912d638e59acde17434efd7a307a50e84acccc5"
   },
   "source": [
    "# Importing necessary packages\n",
    "\n",
    "_____________________--"
   ]
  },
  {
   "cell_type": "code",
   "execution_count": 1,
   "metadata": {
    "_cell_guid": "b3179e5d-5b3a-4c26-b520-17e95cb6a42a",
    "_uuid": "26f82f8ba66274a435d1a51f587959e460a103bf"
   },
   "outputs": [],
   "source": [
    "# Basic modules for dataframe manipulation\n",
    "import numpy as np\n",
    "import pandas as pd\n",
    "\n",
    "# Plots\n",
    "import matplotlib.pyplot as plt\n",
    "import seaborn as sns\n",
    "%matplotlib inline\n",
    "\n",
    "# Machine learning\n",
    "from sklearn.linear_model import LogisticRegression\n",
    "from sklearn.neighbors import KNeighborsClassifier\n",
    "from sklearn.ensemble import RandomForestClassifier, GradientBoostingClassifier\n",
    "\n",
    "# Cross Validaton\n",
    "from sklearn.model_selection import cross_val_score, train_test_split\n",
    "from sklearn.model_selection import GridSearchCV\n",
    "\n",
    "# Metrics\n",
    "from sklearn.metrics import roc_auc_score\n",
    "from sklearn.metrics import roc_curve\n",
    "from sklearn.metrics import classification_report\n",
    "from sklearn.metrics import confusion_matrix"
   ]
  },
  {
   "cell_type": "markdown",
   "metadata": {
    "_cell_guid": "d0cd06eb-567c-4f65-97fc-1bdde9a9f228",
    "_uuid": "753913fdc98704aef0e21cffa965e730ce98433b"
   },
   "source": [
    "# Exploration of the dataset\n",
    "\n",
    "__________________________--"
   ]
  },
  {
   "cell_type": "markdown",
   "metadata": {
    "_cell_guid": "0e535e65-d8af-4d3e-91f8-9123477c3274",
    "_uuid": "fb578c1654c7786719947cb5e032cfec8063b427"
   },
   "source": [
    "Reading the raw data from the \"us_perm_visas.csv\" file available within Kaggle's datasets into a dataframe"
   ]
  },
  {
   "cell_type": "code",
   "execution_count": 2,
   "metadata": {
    "_cell_guid": "8d4fdcfc-bc05-4a04-b551-1b7726062ded",
    "_uuid": "fda8bab1237ad1c28408dcde671737bb33ac0454"
   },
   "outputs": [],
   "source": [
    "# Decision_date and case_recieved_date are read as dates\n",
    "df = pd.read_csv('us_perm_visas.csv', low_memory = False, parse_dates=['decision_date', 'case_received_date'])"
   ]
  },
  {
   "cell_type": "markdown",
   "metadata": {
    "_cell_guid": "ab4c7171-fa0f-40c1-bc95-f8e2c0058284",
    "_uuid": "ff9b1b955dd23454b6af484a49f50180f69a6ca7"
   },
   "source": [
    "Let's take a look at the structure of our dataset by checking the number of observations, columns and displaying 10 first and last rows."
   ]
  },
  {
   "cell_type": "code",
   "execution_count": 3,
   "metadata": {
    "_cell_guid": "aee8e53e-2b04-4db2-9c70-fc256a8dc9f6",
    "_uuid": "5b469249a173b7a2f102b3bf450071a32074b2ae"
   },
   "outputs": [
    {
     "name": "stdout",
     "output_type": "stream",
     "text": [
      "Number of Visa Applications: 374362\n",
      "Number of Columns: 154\n"
     ]
    }
   ],
   "source": [
    "# Displaying number of rows and columns\n",
    "print('Number of Visa Applications:', len(df))\n",
    "print('Number of Columns:', len(df.columns))"
   ]
  },
  {
   "cell_type": "code",
   "execution_count": 4,
   "metadata": {
    "_cell_guid": "4a2c1b31-0181-497e-b952-c584a50e5eb6",
    "_uuid": "fef727ae62e2979559d88e60bcc6b4874d152653"
   },
   "outputs": [
    {
     "data": {
      "text/html": [
       "<div>\n",
       "<style scoped>\n",
       "    .dataframe tbody tr th:only-of-type {\n",
       "        vertical-align: middle;\n",
       "    }\n",
       "\n",
       "    .dataframe tbody tr th {\n",
       "        vertical-align: top;\n",
       "    }\n",
       "\n",
       "    .dataframe thead th {\n",
       "        text-align: right;\n",
       "    }\n",
       "</style>\n",
       "<table border=\"1\" class=\"dataframe\">\n",
       "  <thead>\n",
       "    <tr style=\"text-align: right;\">\n",
       "      <th></th>\n",
       "      <th>add_these_pw_job_title_9089</th>\n",
       "      <th>agent_city</th>\n",
       "      <th>agent_firm_name</th>\n",
       "      <th>agent_state</th>\n",
       "      <th>application_type</th>\n",
       "      <th>case_no</th>\n",
       "      <th>case_number</th>\n",
       "      <th>case_received_date</th>\n",
       "      <th>case_status</th>\n",
       "      <th>class_of_admission</th>\n",
       "      <th>country_of_citizenship</th>\n",
       "      <th>country_of_citzenship</th>\n",
       "      <th>decision_date</th>\n",
       "      <th>employer_address_1</th>\n",
       "      <th>employer_address_2</th>\n",
       "      <th>employer_city</th>\n",
       "      <th>employer_country</th>\n",
       "      <th>employer_decl_info_title</th>\n",
       "      <th>employer_name</th>\n",
       "      <th>employer_num_employees</th>\n",
       "      <th>employer_phone</th>\n",
       "      <th>employer_phone_ext</th>\n",
       "      <th>employer_postal_code</th>\n",
       "      <th>employer_state</th>\n",
       "      <th>employer_yr_estab</th>\n",
       "      <th>foreign_worker_info_alt_edu_experience</th>\n",
       "      <th>foreign_worker_info_birth_country</th>\n",
       "      <th>foreign_worker_info_city</th>\n",
       "      <th>foreign_worker_info_education</th>\n",
       "      <th>foreign_worker_info_education_other</th>\n",
       "      <th>foreign_worker_info_inst</th>\n",
       "      <th>foreign_worker_info_major</th>\n",
       "      <th>foreign_worker_info_postal_code</th>\n",
       "      <th>foreign_worker_info_rel_occup_exp</th>\n",
       "      <th>foreign_worker_info_req_experience</th>\n",
       "      <th>foreign_worker_info_state</th>\n",
       "      <th>foreign_worker_info_training_comp</th>\n",
       "      <th>foreign_worker_ownership_interest</th>\n",
       "      <th>foreign_worker_yr_rel_edu_completed</th>\n",
       "      <th>fw_info_alt_edu_experience</th>\n",
       "      <th>fw_info_birth_country</th>\n",
       "      <th>fw_info_education_other</th>\n",
       "      <th>...</th>\n",
       "      <th>recr_info_on_campus_recr_to</th>\n",
       "      <th>recr_info_pro_org_advert_from</th>\n",
       "      <th>recr_info_pro_org_advert_to</th>\n",
       "      <th>recr_info_prof_org_advert_from</th>\n",
       "      <th>recr_info_prof_org_advert_to</th>\n",
       "      <th>recr_info_professional_occ</th>\n",
       "      <th>recr_info_radio_tv_ad_from</th>\n",
       "      <th>recr_info_radio_tv_ad_to</th>\n",
       "      <th>recr_info_second_ad_start</th>\n",
       "      <th>recr_info_sunday_newspaper</th>\n",
       "      <th>recr_info_swa_job_order_end</th>\n",
       "      <th>recr_info_swa_job_order_start</th>\n",
       "      <th>refile</th>\n",
       "      <th>ri_1st_ad_newspaper_name</th>\n",
       "      <th>ri_2nd_ad_newspaper_name</th>\n",
       "      <th>ri_2nd_ad_newspaper_or_journal</th>\n",
       "      <th>ri_campus_placement_from</th>\n",
       "      <th>ri_campus_placement_to</th>\n",
       "      <th>ri_coll_tch_basic_process</th>\n",
       "      <th>ri_coll_teach_pro_jnl</th>\n",
       "      <th>ri_coll_teach_select_date</th>\n",
       "      <th>ri_employee_referral_prog_from</th>\n",
       "      <th>ri_employee_referral_prog_to</th>\n",
       "      <th>ri_employer_web_post_from</th>\n",
       "      <th>ri_employer_web_post_to</th>\n",
       "      <th>ri_job_search_website_from</th>\n",
       "      <th>ri_job_search_website_to</th>\n",
       "      <th>ri_layoff_in_past_six_months</th>\n",
       "      <th>ri_local_ethnic_paper_from</th>\n",
       "      <th>ri_local_ethnic_paper_to</th>\n",
       "      <th>ri_posted_notice_at_worksite</th>\n",
       "      <th>ri_pvt_employment_firm_from</th>\n",
       "      <th>ri_pvt_employment_firm_to</th>\n",
       "      <th>ri_us_workers_considered</th>\n",
       "      <th>schd_a_sheepherder</th>\n",
       "      <th>us_economic_sector</th>\n",
       "      <th>wage_offer_from_9089</th>\n",
       "      <th>wage_offer_to_9089</th>\n",
       "      <th>wage_offer_unit_of_pay_9089</th>\n",
       "      <th>wage_offered_from_9089</th>\n",
       "      <th>wage_offered_to_9089</th>\n",
       "      <th>wage_offered_unit_of_pay_9089</th>\n",
       "    </tr>\n",
       "  </thead>\n",
       "  <tbody>\n",
       "    <tr>\n",
       "      <th>0</th>\n",
       "      <td>NaN</td>\n",
       "      <td>NaN</td>\n",
       "      <td>NaN</td>\n",
       "      <td>NaN</td>\n",
       "      <td>PERM</td>\n",
       "      <td>A-07323-97014</td>\n",
       "      <td>NaN</td>\n",
       "      <td>NaT</td>\n",
       "      <td>Certified</td>\n",
       "      <td>J-1</td>\n",
       "      <td>NaN</td>\n",
       "      <td>ARMENIA</td>\n",
       "      <td>2012-02-01</td>\n",
       "      <td>24 WEST 25 STREET</td>\n",
       "      <td>5TH FLOOR</td>\n",
       "      <td>NEW YORK</td>\n",
       "      <td>NaN</td>\n",
       "      <td>NaN</td>\n",
       "      <td>NETSOFT USA INC.</td>\n",
       "      <td>NaN</td>\n",
       "      <td>NaN</td>\n",
       "      <td>NaN</td>\n",
       "      <td>10010.0</td>\n",
       "      <td>NY</td>\n",
       "      <td>NaN</td>\n",
       "      <td>NaN</td>\n",
       "      <td>NaN</td>\n",
       "      <td>NaN</td>\n",
       "      <td>NaN</td>\n",
       "      <td>NaN</td>\n",
       "      <td>NaN</td>\n",
       "      <td>NaN</td>\n",
       "      <td>NaN</td>\n",
       "      <td>NaN</td>\n",
       "      <td>NaN</td>\n",
       "      <td>NaN</td>\n",
       "      <td>NaN</td>\n",
       "      <td>NaN</td>\n",
       "      <td>NaN</td>\n",
       "      <td>NaN</td>\n",
       "      <td>NaN</td>\n",
       "      <td>NaN</td>\n",
       "      <td>...</td>\n",
       "      <td>NaN</td>\n",
       "      <td>NaN</td>\n",
       "      <td>NaN</td>\n",
       "      <td>NaN</td>\n",
       "      <td>NaN</td>\n",
       "      <td>NaN</td>\n",
       "      <td>NaN</td>\n",
       "      <td>NaN</td>\n",
       "      <td>NaN</td>\n",
       "      <td>NaN</td>\n",
       "      <td>NaN</td>\n",
       "      <td>NaN</td>\n",
       "      <td>NaN</td>\n",
       "      <td>NaN</td>\n",
       "      <td>NaN</td>\n",
       "      <td>NaN</td>\n",
       "      <td>NaN</td>\n",
       "      <td>NaN</td>\n",
       "      <td>NaN</td>\n",
       "      <td>NaN</td>\n",
       "      <td>NaN</td>\n",
       "      <td>NaN</td>\n",
       "      <td>NaN</td>\n",
       "      <td>NaN</td>\n",
       "      <td>NaN</td>\n",
       "      <td>NaN</td>\n",
       "      <td>NaN</td>\n",
       "      <td>NaN</td>\n",
       "      <td>NaN</td>\n",
       "      <td>NaN</td>\n",
       "      <td>NaN</td>\n",
       "      <td>NaN</td>\n",
       "      <td>NaN</td>\n",
       "      <td>NaN</td>\n",
       "      <td>NaN</td>\n",
       "      <td>IT</td>\n",
       "      <td>75629.0</td>\n",
       "      <td>NaN</td>\n",
       "      <td>yr</td>\n",
       "      <td>NaN</td>\n",
       "      <td>NaN</td>\n",
       "      <td>NaN</td>\n",
       "    </tr>\n",
       "    <tr>\n",
       "      <th>1</th>\n",
       "      <td>NaN</td>\n",
       "      <td>NaN</td>\n",
       "      <td>NaN</td>\n",
       "      <td>NaN</td>\n",
       "      <td>PERM</td>\n",
       "      <td>A-07332-99439</td>\n",
       "      <td>NaN</td>\n",
       "      <td>NaT</td>\n",
       "      <td>Denied</td>\n",
       "      <td>B-2</td>\n",
       "      <td>NaN</td>\n",
       "      <td>POLAND</td>\n",
       "      <td>2011-12-21</td>\n",
       "      <td>200 BROAD STREET</td>\n",
       "      <td>NaN</td>\n",
       "      <td>CARLSTADT</td>\n",
       "      <td>NaN</td>\n",
       "      <td>NaN</td>\n",
       "      <td>PINNACLE ENVIRONEMNTAL CORP</td>\n",
       "      <td>NaN</td>\n",
       "      <td>NaN</td>\n",
       "      <td>NaN</td>\n",
       "      <td>7072.0</td>\n",
       "      <td>NY</td>\n",
       "      <td>NaN</td>\n",
       "      <td>NaN</td>\n",
       "      <td>NaN</td>\n",
       "      <td>NaN</td>\n",
       "      <td>NaN</td>\n",
       "      <td>NaN</td>\n",
       "      <td>NaN</td>\n",
       "      <td>NaN</td>\n",
       "      <td>NaN</td>\n",
       "      <td>NaN</td>\n",
       "      <td>NaN</td>\n",
       "      <td>NaN</td>\n",
       "      <td>NaN</td>\n",
       "      <td>NaN</td>\n",
       "      <td>NaN</td>\n",
       "      <td>NaN</td>\n",
       "      <td>NaN</td>\n",
       "      <td>NaN</td>\n",
       "      <td>...</td>\n",
       "      <td>NaN</td>\n",
       "      <td>NaN</td>\n",
       "      <td>NaN</td>\n",
       "      <td>NaN</td>\n",
       "      <td>NaN</td>\n",
       "      <td>NaN</td>\n",
       "      <td>NaN</td>\n",
       "      <td>NaN</td>\n",
       "      <td>NaN</td>\n",
       "      <td>NaN</td>\n",
       "      <td>NaN</td>\n",
       "      <td>NaN</td>\n",
       "      <td>NaN</td>\n",
       "      <td>NaN</td>\n",
       "      <td>NaN</td>\n",
       "      <td>NaN</td>\n",
       "      <td>NaN</td>\n",
       "      <td>NaN</td>\n",
       "      <td>NaN</td>\n",
       "      <td>NaN</td>\n",
       "      <td>NaN</td>\n",
       "      <td>NaN</td>\n",
       "      <td>NaN</td>\n",
       "      <td>NaN</td>\n",
       "      <td>NaN</td>\n",
       "      <td>NaN</td>\n",
       "      <td>NaN</td>\n",
       "      <td>NaN</td>\n",
       "      <td>NaN</td>\n",
       "      <td>NaN</td>\n",
       "      <td>NaN</td>\n",
       "      <td>NaN</td>\n",
       "      <td>NaN</td>\n",
       "      <td>NaN</td>\n",
       "      <td>NaN</td>\n",
       "      <td>Other Economic Sector</td>\n",
       "      <td>37024.0</td>\n",
       "      <td>NaN</td>\n",
       "      <td>yr</td>\n",
       "      <td>NaN</td>\n",
       "      <td>NaN</td>\n",
       "      <td>NaN</td>\n",
       "    </tr>\n",
       "    <tr>\n",
       "      <th>2</th>\n",
       "      <td>NaN</td>\n",
       "      <td>NaN</td>\n",
       "      <td>NaN</td>\n",
       "      <td>NaN</td>\n",
       "      <td>PERM</td>\n",
       "      <td>A-07333-99643</td>\n",
       "      <td>NaN</td>\n",
       "      <td>NaT</td>\n",
       "      <td>Certified</td>\n",
       "      <td>H-1B</td>\n",
       "      <td>NaN</td>\n",
       "      <td>INDIA</td>\n",
       "      <td>2011-12-01</td>\n",
       "      <td>1054 TECHNOLOGY PARK DRIVE</td>\n",
       "      <td>NaN</td>\n",
       "      <td>GLEN ALLEN</td>\n",
       "      <td>NaN</td>\n",
       "      <td>NaN</td>\n",
       "      <td>SCHNABEL ENGINEERING, INC.</td>\n",
       "      <td>NaN</td>\n",
       "      <td>NaN</td>\n",
       "      <td>NaN</td>\n",
       "      <td>23059.0</td>\n",
       "      <td>VA</td>\n",
       "      <td>NaN</td>\n",
       "      <td>NaN</td>\n",
       "      <td>NaN</td>\n",
       "      <td>NaN</td>\n",
       "      <td>NaN</td>\n",
       "      <td>NaN</td>\n",
       "      <td>NaN</td>\n",
       "      <td>NaN</td>\n",
       "      <td>NaN</td>\n",
       "      <td>NaN</td>\n",
       "      <td>NaN</td>\n",
       "      <td>NaN</td>\n",
       "      <td>NaN</td>\n",
       "      <td>NaN</td>\n",
       "      <td>NaN</td>\n",
       "      <td>NaN</td>\n",
       "      <td>NaN</td>\n",
       "      <td>NaN</td>\n",
       "      <td>...</td>\n",
       "      <td>NaN</td>\n",
       "      <td>NaN</td>\n",
       "      <td>NaN</td>\n",
       "      <td>NaN</td>\n",
       "      <td>NaN</td>\n",
       "      <td>NaN</td>\n",
       "      <td>NaN</td>\n",
       "      <td>NaN</td>\n",
       "      <td>NaN</td>\n",
       "      <td>NaN</td>\n",
       "      <td>NaN</td>\n",
       "      <td>NaN</td>\n",
       "      <td>NaN</td>\n",
       "      <td>NaN</td>\n",
       "      <td>NaN</td>\n",
       "      <td>NaN</td>\n",
       "      <td>NaN</td>\n",
       "      <td>NaN</td>\n",
       "      <td>NaN</td>\n",
       "      <td>NaN</td>\n",
       "      <td>NaN</td>\n",
       "      <td>NaN</td>\n",
       "      <td>NaN</td>\n",
       "      <td>NaN</td>\n",
       "      <td>NaN</td>\n",
       "      <td>NaN</td>\n",
       "      <td>NaN</td>\n",
       "      <td>NaN</td>\n",
       "      <td>NaN</td>\n",
       "      <td>NaN</td>\n",
       "      <td>NaN</td>\n",
       "      <td>NaN</td>\n",
       "      <td>NaN</td>\n",
       "      <td>NaN</td>\n",
       "      <td>NaN</td>\n",
       "      <td>Aerospace</td>\n",
       "      <td>47923.0</td>\n",
       "      <td>NaN</td>\n",
       "      <td>yr</td>\n",
       "      <td>NaN</td>\n",
       "      <td>NaN</td>\n",
       "      <td>NaN</td>\n",
       "    </tr>\n",
       "    <tr>\n",
       "      <th>3</th>\n",
       "      <td>NaN</td>\n",
       "      <td>NaN</td>\n",
       "      <td>NaN</td>\n",
       "      <td>NaN</td>\n",
       "      <td>PERM</td>\n",
       "      <td>A-07339-01930</td>\n",
       "      <td>NaN</td>\n",
       "      <td>NaT</td>\n",
       "      <td>Certified</td>\n",
       "      <td>B-2</td>\n",
       "      <td>NaN</td>\n",
       "      <td>SOUTH KOREA</td>\n",
       "      <td>2011-12-01</td>\n",
       "      <td>33-17 PRINCE ST. 2ND FL</td>\n",
       "      <td>NaN</td>\n",
       "      <td>FLUSHING</td>\n",
       "      <td>NaN</td>\n",
       "      <td>NaN</td>\n",
       "      <td>EBENEZER MISSION CHURCH</td>\n",
       "      <td>NaN</td>\n",
       "      <td>NaN</td>\n",
       "      <td>NaN</td>\n",
       "      <td>11354.0</td>\n",
       "      <td>NY</td>\n",
       "      <td>NaN</td>\n",
       "      <td>NaN</td>\n",
       "      <td>NaN</td>\n",
       "      <td>NaN</td>\n",
       "      <td>NaN</td>\n",
       "      <td>NaN</td>\n",
       "      <td>NaN</td>\n",
       "      <td>NaN</td>\n",
       "      <td>NaN</td>\n",
       "      <td>NaN</td>\n",
       "      <td>NaN</td>\n",
       "      <td>NaN</td>\n",
       "      <td>NaN</td>\n",
       "      <td>NaN</td>\n",
       "      <td>NaN</td>\n",
       "      <td>NaN</td>\n",
       "      <td>NaN</td>\n",
       "      <td>NaN</td>\n",
       "      <td>...</td>\n",
       "      <td>NaN</td>\n",
       "      <td>NaN</td>\n",
       "      <td>NaN</td>\n",
       "      <td>NaN</td>\n",
       "      <td>NaN</td>\n",
       "      <td>NaN</td>\n",
       "      <td>NaN</td>\n",
       "      <td>NaN</td>\n",
       "      <td>NaN</td>\n",
       "      <td>NaN</td>\n",
       "      <td>NaN</td>\n",
       "      <td>NaN</td>\n",
       "      <td>NaN</td>\n",
       "      <td>NaN</td>\n",
       "      <td>NaN</td>\n",
       "      <td>NaN</td>\n",
       "      <td>NaN</td>\n",
       "      <td>NaN</td>\n",
       "      <td>NaN</td>\n",
       "      <td>NaN</td>\n",
       "      <td>NaN</td>\n",
       "      <td>NaN</td>\n",
       "      <td>NaN</td>\n",
       "      <td>NaN</td>\n",
       "      <td>NaN</td>\n",
       "      <td>NaN</td>\n",
       "      <td>NaN</td>\n",
       "      <td>NaN</td>\n",
       "      <td>NaN</td>\n",
       "      <td>NaN</td>\n",
       "      <td>NaN</td>\n",
       "      <td>NaN</td>\n",
       "      <td>NaN</td>\n",
       "      <td>NaN</td>\n",
       "      <td>NaN</td>\n",
       "      <td>Other Economic Sector</td>\n",
       "      <td>10.97</td>\n",
       "      <td>NaN</td>\n",
       "      <td>hr</td>\n",
       "      <td>NaN</td>\n",
       "      <td>NaN</td>\n",
       "      <td>NaN</td>\n",
       "    </tr>\n",
       "    <tr>\n",
       "      <th>4</th>\n",
       "      <td>NaN</td>\n",
       "      <td>NaN</td>\n",
       "      <td>NaN</td>\n",
       "      <td>NaN</td>\n",
       "      <td>PERM</td>\n",
       "      <td>A-07345-03565</td>\n",
       "      <td>NaN</td>\n",
       "      <td>NaT</td>\n",
       "      <td>Certified</td>\n",
       "      <td>L-1</td>\n",
       "      <td>NaN</td>\n",
       "      <td>CANADA</td>\n",
       "      <td>2012-01-26</td>\n",
       "      <td>1373 BROADWAY</td>\n",
       "      <td>NaN</td>\n",
       "      <td>ALBANY</td>\n",
       "      <td>NaN</td>\n",
       "      <td>NaN</td>\n",
       "      <td>ALBANY INTERNATIONAL CORP.</td>\n",
       "      <td>NaN</td>\n",
       "      <td>NaN</td>\n",
       "      <td>NaN</td>\n",
       "      <td>12204.0</td>\n",
       "      <td>NY</td>\n",
       "      <td>NaN</td>\n",
       "      <td>NaN</td>\n",
       "      <td>NaN</td>\n",
       "      <td>NaN</td>\n",
       "      <td>NaN</td>\n",
       "      <td>NaN</td>\n",
       "      <td>NaN</td>\n",
       "      <td>NaN</td>\n",
       "      <td>NaN</td>\n",
       "      <td>NaN</td>\n",
       "      <td>NaN</td>\n",
       "      <td>NaN</td>\n",
       "      <td>NaN</td>\n",
       "      <td>NaN</td>\n",
       "      <td>NaN</td>\n",
       "      <td>NaN</td>\n",
       "      <td>NaN</td>\n",
       "      <td>NaN</td>\n",
       "      <td>...</td>\n",
       "      <td>NaN</td>\n",
       "      <td>NaN</td>\n",
       "      <td>NaN</td>\n",
       "      <td>NaN</td>\n",
       "      <td>NaN</td>\n",
       "      <td>NaN</td>\n",
       "      <td>NaN</td>\n",
       "      <td>NaN</td>\n",
       "      <td>NaN</td>\n",
       "      <td>NaN</td>\n",
       "      <td>NaN</td>\n",
       "      <td>NaN</td>\n",
       "      <td>NaN</td>\n",
       "      <td>NaN</td>\n",
       "      <td>NaN</td>\n",
       "      <td>NaN</td>\n",
       "      <td>NaN</td>\n",
       "      <td>NaN</td>\n",
       "      <td>NaN</td>\n",
       "      <td>NaN</td>\n",
       "      <td>NaN</td>\n",
       "      <td>NaN</td>\n",
       "      <td>NaN</td>\n",
       "      <td>NaN</td>\n",
       "      <td>NaN</td>\n",
       "      <td>NaN</td>\n",
       "      <td>NaN</td>\n",
       "      <td>NaN</td>\n",
       "      <td>NaN</td>\n",
       "      <td>NaN</td>\n",
       "      <td>NaN</td>\n",
       "      <td>NaN</td>\n",
       "      <td>NaN</td>\n",
       "      <td>NaN</td>\n",
       "      <td>NaN</td>\n",
       "      <td>Advanced Mfg</td>\n",
       "      <td>100000.0</td>\n",
       "      <td>NaN</td>\n",
       "      <td>yr</td>\n",
       "      <td>NaN</td>\n",
       "      <td>NaN</td>\n",
       "      <td>NaN</td>\n",
       "    </tr>\n",
       "  </tbody>\n",
       "</table>\n",
       "<p>5 rows × 154 columns</p>\n",
       "</div>"
      ],
      "text/plain": [
       "  add_these_pw_job_title_9089 agent_city agent_firm_name agent_state  \\\n",
       "0                         NaN        NaN             NaN         NaN   \n",
       "1                         NaN        NaN             NaN         NaN   \n",
       "2                         NaN        NaN             NaN         NaN   \n",
       "3                         NaN        NaN             NaN         NaN   \n",
       "4                         NaN        NaN             NaN         NaN   \n",
       "\n",
       "  application_type        case_no case_number case_received_date case_status  \\\n",
       "0             PERM  A-07323-97014         NaN                NaT   Certified   \n",
       "1             PERM  A-07332-99439         NaN                NaT      Denied   \n",
       "2             PERM  A-07333-99643         NaN                NaT   Certified   \n",
       "3             PERM  A-07339-01930         NaN                NaT   Certified   \n",
       "4             PERM  A-07345-03565         NaN                NaT   Certified   \n",
       "\n",
       "  class_of_admission country_of_citizenship country_of_citzenship  \\\n",
       "0                J-1                    NaN               ARMENIA   \n",
       "1                B-2                    NaN                POLAND   \n",
       "2               H-1B                    NaN                 INDIA   \n",
       "3                B-2                    NaN           SOUTH KOREA   \n",
       "4                L-1                    NaN                CANADA   \n",
       "\n",
       "  decision_date          employer_address_1 employer_address_2 employer_city  \\\n",
       "0    2012-02-01           24 WEST 25 STREET          5TH FLOOR      NEW YORK   \n",
       "1    2011-12-21            200 BROAD STREET                NaN     CARLSTADT   \n",
       "2    2011-12-01  1054 TECHNOLOGY PARK DRIVE                NaN    GLEN ALLEN   \n",
       "3    2011-12-01     33-17 PRINCE ST. 2ND FL                NaN      FLUSHING   \n",
       "4    2012-01-26               1373 BROADWAY                NaN        ALBANY   \n",
       "\n",
       "  employer_country employer_decl_info_title                employer_name  \\\n",
       "0              NaN                      NaN             NETSOFT USA INC.   \n",
       "1              NaN                      NaN  PINNACLE ENVIRONEMNTAL CORP   \n",
       "2              NaN                      NaN   SCHNABEL ENGINEERING, INC.   \n",
       "3              NaN                      NaN      EBENEZER MISSION CHURCH   \n",
       "4              NaN                      NaN   ALBANY INTERNATIONAL CORP.   \n",
       "\n",
       "   employer_num_employees employer_phone employer_phone_ext  \\\n",
       "0                     NaN            NaN                NaN   \n",
       "1                     NaN            NaN                NaN   \n",
       "2                     NaN            NaN                NaN   \n",
       "3                     NaN            NaN                NaN   \n",
       "4                     NaN            NaN                NaN   \n",
       "\n",
       "  employer_postal_code employer_state  employer_yr_estab  \\\n",
       "0              10010.0             NY                NaN   \n",
       "1               7072.0             NY                NaN   \n",
       "2              23059.0             VA                NaN   \n",
       "3              11354.0             NY                NaN   \n",
       "4              12204.0             NY                NaN   \n",
       "\n",
       "  foreign_worker_info_alt_edu_experience foreign_worker_info_birth_country  \\\n",
       "0                                    NaN                               NaN   \n",
       "1                                    NaN                               NaN   \n",
       "2                                    NaN                               NaN   \n",
       "3                                    NaN                               NaN   \n",
       "4                                    NaN                               NaN   \n",
       "\n",
       "  foreign_worker_info_city foreign_worker_info_education  \\\n",
       "0                      NaN                           NaN   \n",
       "1                      NaN                           NaN   \n",
       "2                      NaN                           NaN   \n",
       "3                      NaN                           NaN   \n",
       "4                      NaN                           NaN   \n",
       "\n",
       "  foreign_worker_info_education_other foreign_worker_info_inst  \\\n",
       "0                                 NaN                      NaN   \n",
       "1                                 NaN                      NaN   \n",
       "2                                 NaN                      NaN   \n",
       "3                                 NaN                      NaN   \n",
       "4                                 NaN                      NaN   \n",
       "\n",
       "  foreign_worker_info_major foreign_worker_info_postal_code  \\\n",
       "0                       NaN                             NaN   \n",
       "1                       NaN                             NaN   \n",
       "2                       NaN                             NaN   \n",
       "3                       NaN                             NaN   \n",
       "4                       NaN                             NaN   \n",
       "\n",
       "  foreign_worker_info_rel_occup_exp foreign_worker_info_req_experience  \\\n",
       "0                               NaN                                NaN   \n",
       "1                               NaN                                NaN   \n",
       "2                               NaN                                NaN   \n",
       "3                               NaN                                NaN   \n",
       "4                               NaN                                NaN   \n",
       "\n",
       "  foreign_worker_info_state foreign_worker_info_training_comp  \\\n",
       "0                       NaN                               NaN   \n",
       "1                       NaN                               NaN   \n",
       "2                       NaN                               NaN   \n",
       "3                       NaN                               NaN   \n",
       "4                       NaN                               NaN   \n",
       "\n",
       "  foreign_worker_ownership_interest  foreign_worker_yr_rel_edu_completed  \\\n",
       "0                               NaN                                  NaN   \n",
       "1                               NaN                                  NaN   \n",
       "2                               NaN                                  NaN   \n",
       "3                               NaN                                  NaN   \n",
       "4                               NaN                                  NaN   \n",
       "\n",
       "  fw_info_alt_edu_experience fw_info_birth_country fw_info_education_other  \\\n",
       "0                        NaN                   NaN                     NaN   \n",
       "1                        NaN                   NaN                     NaN   \n",
       "2                        NaN                   NaN                     NaN   \n",
       "3                        NaN                   NaN                     NaN   \n",
       "4                        NaN                   NaN                     NaN   \n",
       "\n",
       "               ...              recr_info_on_campus_recr_to  \\\n",
       "0              ...                                      NaN   \n",
       "1              ...                                      NaN   \n",
       "2              ...                                      NaN   \n",
       "3              ...                                      NaN   \n",
       "4              ...                                      NaN   \n",
       "\n",
       "  recr_info_pro_org_advert_from recr_info_pro_org_advert_to  \\\n",
       "0                           NaN                         NaN   \n",
       "1                           NaN                         NaN   \n",
       "2                           NaN                         NaN   \n",
       "3                           NaN                         NaN   \n",
       "4                           NaN                         NaN   \n",
       "\n",
       "  recr_info_prof_org_advert_from  recr_info_prof_org_advert_to  \\\n",
       "0                            NaN                           NaN   \n",
       "1                            NaN                           NaN   \n",
       "2                            NaN                           NaN   \n",
       "3                            NaN                           NaN   \n",
       "4                            NaN                           NaN   \n",
       "\n",
       "  recr_info_professional_occ recr_info_radio_tv_ad_from  \\\n",
       "0                        NaN                        NaN   \n",
       "1                        NaN                        NaN   \n",
       "2                        NaN                        NaN   \n",
       "3                        NaN                        NaN   \n",
       "4                        NaN                        NaN   \n",
       "\n",
       "  recr_info_radio_tv_ad_to recr_info_second_ad_start  \\\n",
       "0                      NaN                       NaN   \n",
       "1                      NaN                       NaN   \n",
       "2                      NaN                       NaN   \n",
       "3                      NaN                       NaN   \n",
       "4                      NaN                       NaN   \n",
       "\n",
       "  recr_info_sunday_newspaper recr_info_swa_job_order_end  \\\n",
       "0                        NaN                         NaN   \n",
       "1                        NaN                         NaN   \n",
       "2                        NaN                         NaN   \n",
       "3                        NaN                         NaN   \n",
       "4                        NaN                         NaN   \n",
       "\n",
       "  recr_info_swa_job_order_start  refile ri_1st_ad_newspaper_name  \\\n",
       "0                           NaN     NaN                      NaN   \n",
       "1                           NaN     NaN                      NaN   \n",
       "2                           NaN     NaN                      NaN   \n",
       "3                           NaN     NaN                      NaN   \n",
       "4                           NaN     NaN                      NaN   \n",
       "\n",
       "  ri_2nd_ad_newspaper_name ri_2nd_ad_newspaper_or_journal  \\\n",
       "0                      NaN                            NaN   \n",
       "1                      NaN                            NaN   \n",
       "2                      NaN                            NaN   \n",
       "3                      NaN                            NaN   \n",
       "4                      NaN                            NaN   \n",
       "\n",
       "  ri_campus_placement_from ri_campus_placement_to ri_coll_tch_basic_process  \\\n",
       "0                      NaN                    NaN                       NaN   \n",
       "1                      NaN                    NaN                       NaN   \n",
       "2                      NaN                    NaN                       NaN   \n",
       "3                      NaN                    NaN                       NaN   \n",
       "4                      NaN                    NaN                       NaN   \n",
       "\n",
       "  ri_coll_teach_pro_jnl  ri_coll_teach_select_date  \\\n",
       "0                   NaN                        NaN   \n",
       "1                   NaN                        NaN   \n",
       "2                   NaN                        NaN   \n",
       "3                   NaN                        NaN   \n",
       "4                   NaN                        NaN   \n",
       "\n",
       "  ri_employee_referral_prog_from ri_employee_referral_prog_to  \\\n",
       "0                            NaN                          NaN   \n",
       "1                            NaN                          NaN   \n",
       "2                            NaN                          NaN   \n",
       "3                            NaN                          NaN   \n",
       "4                            NaN                          NaN   \n",
       "\n",
       "  ri_employer_web_post_from ri_employer_web_post_to  \\\n",
       "0                       NaN                     NaN   \n",
       "1                       NaN                     NaN   \n",
       "2                       NaN                     NaN   \n",
       "3                       NaN                     NaN   \n",
       "4                       NaN                     NaN   \n",
       "\n",
       "   ri_job_search_website_from ri_job_search_website_to  \\\n",
       "0                         NaN                      NaN   \n",
       "1                         NaN                      NaN   \n",
       "2                         NaN                      NaN   \n",
       "3                         NaN                      NaN   \n",
       "4                         NaN                      NaN   \n",
       "\n",
       "  ri_layoff_in_past_six_months ri_local_ethnic_paper_from  \\\n",
       "0                          NaN                        NaN   \n",
       "1                          NaN                        NaN   \n",
       "2                          NaN                        NaN   \n",
       "3                          NaN                        NaN   \n",
       "4                          NaN                        NaN   \n",
       "\n",
       "  ri_local_ethnic_paper_to ri_posted_notice_at_worksite  \\\n",
       "0                      NaN                          NaN   \n",
       "1                      NaN                          NaN   \n",
       "2                      NaN                          NaN   \n",
       "3                      NaN                          NaN   \n",
       "4                      NaN                          NaN   \n",
       "\n",
       "  ri_pvt_employment_firm_from ri_pvt_employment_firm_to  \\\n",
       "0                         NaN                       NaN   \n",
       "1                         NaN                       NaN   \n",
       "2                         NaN                       NaN   \n",
       "3                         NaN                       NaN   \n",
       "4                         NaN                       NaN   \n",
       "\n",
       "   ri_us_workers_considered schd_a_sheepherder     us_economic_sector  \\\n",
       "0                       NaN                NaN                     IT   \n",
       "1                       NaN                NaN  Other Economic Sector   \n",
       "2                       NaN                NaN              Aerospace   \n",
       "3                       NaN                NaN  Other Economic Sector   \n",
       "4                       NaN                NaN           Advanced Mfg   \n",
       "\n",
       "  wage_offer_from_9089 wage_offer_to_9089 wage_offer_unit_of_pay_9089  \\\n",
       "0              75629.0                NaN                          yr   \n",
       "1              37024.0                NaN                          yr   \n",
       "2              47923.0                NaN                          yr   \n",
       "3                10.97                NaN                          hr   \n",
       "4             100000.0                NaN                          yr   \n",
       "\n",
       "  wage_offered_from_9089 wage_offered_to_9089 wage_offered_unit_of_pay_9089  \n",
       "0                    NaN                  NaN                           NaN  \n",
       "1                    NaN                  NaN                           NaN  \n",
       "2                    NaN                  NaN                           NaN  \n",
       "3                    NaN                  NaN                           NaN  \n",
       "4                    NaN                  NaN                           NaN  \n",
       "\n",
       "[5 rows x 154 columns]"
      ]
     },
     "execution_count": 4,
     "metadata": {},
     "output_type": "execute_result"
    }
   ],
   "source": [
    "# Change the default number of columns displayed by DataFrame's head method\n",
    "pd.set_option('display.max_columns', 85)\n",
    "\n",
    "# Displaying 5 first rows\n",
    "df.head()"
   ]
  },
  {
   "cell_type": "code",
   "execution_count": 5,
   "metadata": {
    "_cell_guid": "9ad23939-df68-48fe-ab2f-4fbb595a913e",
    "_uuid": "79b354f6aaefa62d605b026a6bb8d72e8de5f275"
   },
   "outputs": [
    {
     "data": {
      "text/html": [
       "<div>\n",
       "<style scoped>\n",
       "    .dataframe tbody tr th:only-of-type {\n",
       "        vertical-align: middle;\n",
       "    }\n",
       "\n",
       "    .dataframe tbody tr th {\n",
       "        vertical-align: top;\n",
       "    }\n",
       "\n",
       "    .dataframe thead th {\n",
       "        text-align: right;\n",
       "    }\n",
       "</style>\n",
       "<table border=\"1\" class=\"dataframe\">\n",
       "  <thead>\n",
       "    <tr style=\"text-align: right;\">\n",
       "      <th></th>\n",
       "      <th>add_these_pw_job_title_9089</th>\n",
       "      <th>agent_city</th>\n",
       "      <th>agent_firm_name</th>\n",
       "      <th>agent_state</th>\n",
       "      <th>application_type</th>\n",
       "      <th>case_no</th>\n",
       "      <th>case_number</th>\n",
       "      <th>case_received_date</th>\n",
       "      <th>case_status</th>\n",
       "      <th>class_of_admission</th>\n",
       "      <th>country_of_citizenship</th>\n",
       "      <th>country_of_citzenship</th>\n",
       "      <th>decision_date</th>\n",
       "      <th>employer_address_1</th>\n",
       "      <th>employer_address_2</th>\n",
       "      <th>employer_city</th>\n",
       "      <th>employer_country</th>\n",
       "      <th>employer_decl_info_title</th>\n",
       "      <th>employer_name</th>\n",
       "      <th>employer_num_employees</th>\n",
       "      <th>employer_phone</th>\n",
       "      <th>employer_phone_ext</th>\n",
       "      <th>employer_postal_code</th>\n",
       "      <th>employer_state</th>\n",
       "      <th>employer_yr_estab</th>\n",
       "      <th>foreign_worker_info_alt_edu_experience</th>\n",
       "      <th>foreign_worker_info_birth_country</th>\n",
       "      <th>foreign_worker_info_city</th>\n",
       "      <th>foreign_worker_info_education</th>\n",
       "      <th>foreign_worker_info_education_other</th>\n",
       "      <th>foreign_worker_info_inst</th>\n",
       "      <th>foreign_worker_info_major</th>\n",
       "      <th>foreign_worker_info_postal_code</th>\n",
       "      <th>foreign_worker_info_rel_occup_exp</th>\n",
       "      <th>foreign_worker_info_req_experience</th>\n",
       "      <th>foreign_worker_info_state</th>\n",
       "      <th>foreign_worker_info_training_comp</th>\n",
       "      <th>foreign_worker_ownership_interest</th>\n",
       "      <th>foreign_worker_yr_rel_edu_completed</th>\n",
       "      <th>fw_info_alt_edu_experience</th>\n",
       "      <th>fw_info_birth_country</th>\n",
       "      <th>fw_info_education_other</th>\n",
       "      <th>...</th>\n",
       "      <th>recr_info_on_campus_recr_to</th>\n",
       "      <th>recr_info_pro_org_advert_from</th>\n",
       "      <th>recr_info_pro_org_advert_to</th>\n",
       "      <th>recr_info_prof_org_advert_from</th>\n",
       "      <th>recr_info_prof_org_advert_to</th>\n",
       "      <th>recr_info_professional_occ</th>\n",
       "      <th>recr_info_radio_tv_ad_from</th>\n",
       "      <th>recr_info_radio_tv_ad_to</th>\n",
       "      <th>recr_info_second_ad_start</th>\n",
       "      <th>recr_info_sunday_newspaper</th>\n",
       "      <th>recr_info_swa_job_order_end</th>\n",
       "      <th>recr_info_swa_job_order_start</th>\n",
       "      <th>refile</th>\n",
       "      <th>ri_1st_ad_newspaper_name</th>\n",
       "      <th>ri_2nd_ad_newspaper_name</th>\n",
       "      <th>ri_2nd_ad_newspaper_or_journal</th>\n",
       "      <th>ri_campus_placement_from</th>\n",
       "      <th>ri_campus_placement_to</th>\n",
       "      <th>ri_coll_tch_basic_process</th>\n",
       "      <th>ri_coll_teach_pro_jnl</th>\n",
       "      <th>ri_coll_teach_select_date</th>\n",
       "      <th>ri_employee_referral_prog_from</th>\n",
       "      <th>ri_employee_referral_prog_to</th>\n",
       "      <th>ri_employer_web_post_from</th>\n",
       "      <th>ri_employer_web_post_to</th>\n",
       "      <th>ri_job_search_website_from</th>\n",
       "      <th>ri_job_search_website_to</th>\n",
       "      <th>ri_layoff_in_past_six_months</th>\n",
       "      <th>ri_local_ethnic_paper_from</th>\n",
       "      <th>ri_local_ethnic_paper_to</th>\n",
       "      <th>ri_posted_notice_at_worksite</th>\n",
       "      <th>ri_pvt_employment_firm_from</th>\n",
       "      <th>ri_pvt_employment_firm_to</th>\n",
       "      <th>ri_us_workers_considered</th>\n",
       "      <th>schd_a_sheepherder</th>\n",
       "      <th>us_economic_sector</th>\n",
       "      <th>wage_offer_from_9089</th>\n",
       "      <th>wage_offer_to_9089</th>\n",
       "      <th>wage_offer_unit_of_pay_9089</th>\n",
       "      <th>wage_offered_from_9089</th>\n",
       "      <th>wage_offered_to_9089</th>\n",
       "      <th>wage_offered_unit_of_pay_9089</th>\n",
       "    </tr>\n",
       "  </thead>\n",
       "  <tbody>\n",
       "    <tr>\n",
       "      <th>374357</th>\n",
       "      <td>NaN</td>\n",
       "      <td>Buena Park</td>\n",
       "      <td>Law Offices of Yohan Lee</td>\n",
       "      <td>CA</td>\n",
       "      <td>NaN</td>\n",
       "      <td>NaN</td>\n",
       "      <td>A-16363-85407</td>\n",
       "      <td>2016-12-29</td>\n",
       "      <td>Withdrawn</td>\n",
       "      <td>NaN</td>\n",
       "      <td>SOUTH KOREA</td>\n",
       "      <td>NaN</td>\n",
       "      <td>2016-12-30</td>\n",
       "      <td>434 S EUCLID STREET STE 100</td>\n",
       "      <td>None</td>\n",
       "      <td>ANAHEIM</td>\n",
       "      <td>UNITED STATES OF AMERICA</td>\n",
       "      <td>President</td>\n",
       "      <td>UNION DENTAL GROUP ANAHEIM, INC.</td>\n",
       "      <td>3.0</td>\n",
       "      <td>7145330900</td>\n",
       "      <td>NaN</td>\n",
       "      <td>92802</td>\n",
       "      <td>CA</td>\n",
       "      <td>2014.0</td>\n",
       "      <td>NaN</td>\n",
       "      <td>NaN</td>\n",
       "      <td>SIHEUNG-SI</td>\n",
       "      <td>Associate's</td>\n",
       "      <td>NaN</td>\n",
       "      <td>YOUNGSAN UNIVERSITY</td>\n",
       "      <td>ENGLISH</td>\n",
       "      <td>NaN</td>\n",
       "      <td>NaN</td>\n",
       "      <td>NaN</td>\n",
       "      <td>NaN</td>\n",
       "      <td>NaN</td>\n",
       "      <td>NaN</td>\n",
       "      <td>NaN</td>\n",
       "      <td>A</td>\n",
       "      <td>SOUTH KOREA</td>\n",
       "      <td>None</td>\n",
       "      <td>...</td>\n",
       "      <td>NaN</td>\n",
       "      <td>NaN</td>\n",
       "      <td>NaN</td>\n",
       "      <td>NaN</td>\n",
       "      <td>NaN</td>\n",
       "      <td>N</td>\n",
       "      <td>NaN</td>\n",
       "      <td>NaN</td>\n",
       "      <td>2016-10-30</td>\n",
       "      <td>Y</td>\n",
       "      <td>2016-11-19</td>\n",
       "      <td>2016-10-19</td>\n",
       "      <td>N</td>\n",
       "      <td>Orange County Register</td>\n",
       "      <td>Orange County Register</td>\n",
       "      <td>Y</td>\n",
       "      <td>NaN</td>\n",
       "      <td>NaN</td>\n",
       "      <td>NaN</td>\n",
       "      <td>None</td>\n",
       "      <td>NaN</td>\n",
       "      <td>NaN</td>\n",
       "      <td>NaN</td>\n",
       "      <td>NaN</td>\n",
       "      <td>NaN</td>\n",
       "      <td>NaN</td>\n",
       "      <td>NaN</td>\n",
       "      <td>N</td>\n",
       "      <td>NaN</td>\n",
       "      <td>NaN</td>\n",
       "      <td>Y</td>\n",
       "      <td>NaN</td>\n",
       "      <td>NaN</td>\n",
       "      <td>NaN</td>\n",
       "      <td>N</td>\n",
       "      <td>NaN</td>\n",
       "      <td>28,330.00</td>\n",
       "      <td>NaN</td>\n",
       "      <td>Year</td>\n",
       "      <td>NaN</td>\n",
       "      <td>NaN</td>\n",
       "      <td>NaN</td>\n",
       "    </tr>\n",
       "    <tr>\n",
       "      <th>374358</th>\n",
       "      <td>NaN</td>\n",
       "      <td>Seattle</td>\n",
       "      <td>MacDonald Hoague &amp; Bayless</td>\n",
       "      <td>WA</td>\n",
       "      <td>NaN</td>\n",
       "      <td>NaN</td>\n",
       "      <td>A-16271-56745</td>\n",
       "      <td>2016-12-30</td>\n",
       "      <td>Withdrawn</td>\n",
       "      <td>L-1</td>\n",
       "      <td>VIETNAM</td>\n",
       "      <td>NaN</td>\n",
       "      <td>2016-12-30</td>\n",
       "      <td>ONE MICROSOFT WAY</td>\n",
       "      <td>None</td>\n",
       "      <td>REDMOND</td>\n",
       "      <td>UNITED STATES OF AMERICA</td>\n",
       "      <td>Microsoft In-House Attorney</td>\n",
       "      <td>MICROSOFT CORPORATION</td>\n",
       "      <td>63000.0</td>\n",
       "      <td>425-538-3872</td>\n",
       "      <td>NaN</td>\n",
       "      <td>98052</td>\n",
       "      <td>WA</td>\n",
       "      <td>1975.0</td>\n",
       "      <td>NaN</td>\n",
       "      <td>NaN</td>\n",
       "      <td>QUINCY</td>\n",
       "      <td>Bachelor's</td>\n",
       "      <td>NaN</td>\n",
       "      <td>HO CHI MINH CITY UNIVERSITY OF NATURAL SCIENCES</td>\n",
       "      <td>INFORMATION TECHNOLOGY</td>\n",
       "      <td>NaN</td>\n",
       "      <td>NaN</td>\n",
       "      <td>NaN</td>\n",
       "      <td>MA</td>\n",
       "      <td>NaN</td>\n",
       "      <td>NaN</td>\n",
       "      <td>NaN</td>\n",
       "      <td>Y</td>\n",
       "      <td>VIETNAM</td>\n",
       "      <td>None</td>\n",
       "      <td>...</td>\n",
       "      <td>NaN</td>\n",
       "      <td>NaN</td>\n",
       "      <td>NaN</td>\n",
       "      <td>2016-09-01</td>\n",
       "      <td>2016-09-01</td>\n",
       "      <td>Y</td>\n",
       "      <td>NaN</td>\n",
       "      <td>NaN</td>\n",
       "      <td>2016-07-31</td>\n",
       "      <td>Y</td>\n",
       "      <td>2016-08-30</td>\n",
       "      <td>2016-07-26</td>\n",
       "      <td>N</td>\n",
       "      <td>The Boston Globe</td>\n",
       "      <td>The Boston Globe</td>\n",
       "      <td>Y</td>\n",
       "      <td>NaN</td>\n",
       "      <td>NaN</td>\n",
       "      <td>NaN</td>\n",
       "      <td>None</td>\n",
       "      <td>NaN</td>\n",
       "      <td>NaN</td>\n",
       "      <td>NaN</td>\n",
       "      <td>NaN</td>\n",
       "      <td>NaN</td>\n",
       "      <td>2016-07-27</td>\n",
       "      <td>2016-08-05</td>\n",
       "      <td>Y</td>\n",
       "      <td>2016-07-27</td>\n",
       "      <td>2016-07-27</td>\n",
       "      <td>Y</td>\n",
       "      <td>NaN</td>\n",
       "      <td>NaN</td>\n",
       "      <td>Y</td>\n",
       "      <td>N</td>\n",
       "      <td>NaN</td>\n",
       "      <td>122,000.00</td>\n",
       "      <td>142,000.00</td>\n",
       "      <td>Year</td>\n",
       "      <td>NaN</td>\n",
       "      <td>NaN</td>\n",
       "      <td>NaN</td>\n",
       "    </tr>\n",
       "    <tr>\n",
       "      <th>374359</th>\n",
       "      <td>NaN</td>\n",
       "      <td>Schaumburg</td>\n",
       "      <td>International Legal and Business Services Grou...</td>\n",
       "      <td>IL</td>\n",
       "      <td>NaN</td>\n",
       "      <td>NaN</td>\n",
       "      <td>A-16354-82345</td>\n",
       "      <td>2016-12-30</td>\n",
       "      <td>Withdrawn</td>\n",
       "      <td>H-1B</td>\n",
       "      <td>INDIA</td>\n",
       "      <td>NaN</td>\n",
       "      <td>2016-12-30</td>\n",
       "      <td>220 W MICHIGAN AVE</td>\n",
       "      <td>None</td>\n",
       "      <td>YPSILANTI</td>\n",
       "      <td>UNITED STATES OF AMERICA</td>\n",
       "      <td>Director</td>\n",
       "      <td>AMPHION GLOBAL INC</td>\n",
       "      <td>33.0</td>\n",
       "      <td>6143568160</td>\n",
       "      <td>NaN</td>\n",
       "      <td>48197</td>\n",
       "      <td>MI</td>\n",
       "      <td>2010.0</td>\n",
       "      <td>NaN</td>\n",
       "      <td>NaN</td>\n",
       "      <td>DEARBORN</td>\n",
       "      <td>Master's</td>\n",
       "      <td>NaN</td>\n",
       "      <td>CLEVELAND STATE UNIVERSITY</td>\n",
       "      <td>ELECTRICAL AND ELECTRONICS ENGINEERING</td>\n",
       "      <td>NaN</td>\n",
       "      <td>NaN</td>\n",
       "      <td>NaN</td>\n",
       "      <td>MI</td>\n",
       "      <td>NaN</td>\n",
       "      <td>NaN</td>\n",
       "      <td>NaN</td>\n",
       "      <td>A</td>\n",
       "      <td>INDIA</td>\n",
       "      <td>None</td>\n",
       "      <td>...</td>\n",
       "      <td>NaN</td>\n",
       "      <td>NaN</td>\n",
       "      <td>NaN</td>\n",
       "      <td>NaN</td>\n",
       "      <td>NaN</td>\n",
       "      <td>Y</td>\n",
       "      <td>NaN</td>\n",
       "      <td>NaN</td>\n",
       "      <td>2016-07-31</td>\n",
       "      <td>Y</td>\n",
       "      <td>2016-08-22</td>\n",
       "      <td>2016-07-18</td>\n",
       "      <td>N</td>\n",
       "      <td>Detroit Free Press</td>\n",
       "      <td>Detroit Free Press</td>\n",
       "      <td>Y</td>\n",
       "      <td>NaN</td>\n",
       "      <td>NaN</td>\n",
       "      <td>NaN</td>\n",
       "      <td>None</td>\n",
       "      <td>NaN</td>\n",
       "      <td>NaN</td>\n",
       "      <td>NaN</td>\n",
       "      <td>2016-07-18</td>\n",
       "      <td>2016-08-16</td>\n",
       "      <td>2016-07-19</td>\n",
       "      <td>2016-08-16</td>\n",
       "      <td>N</td>\n",
       "      <td>2016-07-21</td>\n",
       "      <td>2016-07-28</td>\n",
       "      <td>Y</td>\n",
       "      <td>NaN</td>\n",
       "      <td>NaN</td>\n",
       "      <td>NaN</td>\n",
       "      <td>N</td>\n",
       "      <td>NaN</td>\n",
       "      <td>79,082.00</td>\n",
       "      <td>79,082.00</td>\n",
       "      <td>Year</td>\n",
       "      <td>NaN</td>\n",
       "      <td>NaN</td>\n",
       "      <td>NaN</td>\n",
       "    </tr>\n",
       "    <tr>\n",
       "      <th>374360</th>\n",
       "      <td>NaN</td>\n",
       "      <td>LOS ANGELES</td>\n",
       "      <td>LAW OFFICES OF JAMES S HONG</td>\n",
       "      <td>CA</td>\n",
       "      <td>NaN</td>\n",
       "      <td>NaN</td>\n",
       "      <td>A-16357-84250</td>\n",
       "      <td>2016-12-30</td>\n",
       "      <td>Withdrawn</td>\n",
       "      <td>B-2</td>\n",
       "      <td>SOUTH KOREA</td>\n",
       "      <td>NaN</td>\n",
       "      <td>2016-12-30</td>\n",
       "      <td>3957 E. Camelback Rd</td>\n",
       "      <td>None</td>\n",
       "      <td>Phoenix</td>\n",
       "      <td>UNITED STATES OF AMERICA</td>\n",
       "      <td>President</td>\n",
       "      <td>Zen Sushi, Inc</td>\n",
       "      <td>16.0</td>\n",
       "      <td>602-956-2354</td>\n",
       "      <td>NaN</td>\n",
       "      <td>85018</td>\n",
       "      <td>AZ</td>\n",
       "      <td>2013.0</td>\n",
       "      <td>NaN</td>\n",
       "      <td>NaN</td>\n",
       "      <td>LOS ANGELES</td>\n",
       "      <td>None</td>\n",
       "      <td>NaN</td>\n",
       "      <td>NaN</td>\n",
       "      <td>NaN</td>\n",
       "      <td>NaN</td>\n",
       "      <td>NaN</td>\n",
       "      <td>NaN</td>\n",
       "      <td>CA</td>\n",
       "      <td>NaN</td>\n",
       "      <td>NaN</td>\n",
       "      <td>NaN</td>\n",
       "      <td>A</td>\n",
       "      <td>SOUTH KOREA</td>\n",
       "      <td>None</td>\n",
       "      <td>...</td>\n",
       "      <td>NaN</td>\n",
       "      <td>NaN</td>\n",
       "      <td>NaN</td>\n",
       "      <td>NaN</td>\n",
       "      <td>NaN</td>\n",
       "      <td>N</td>\n",
       "      <td>NaN</td>\n",
       "      <td>NaN</td>\n",
       "      <td>2016-09-18</td>\n",
       "      <td>Y</td>\n",
       "      <td>2016-09-26</td>\n",
       "      <td>2016-08-24</td>\n",
       "      <td>N</td>\n",
       "      <td>The Arizona Republic</td>\n",
       "      <td>The Arizona Republic</td>\n",
       "      <td>Y</td>\n",
       "      <td>NaN</td>\n",
       "      <td>NaN</td>\n",
       "      <td>NaN</td>\n",
       "      <td>None</td>\n",
       "      <td>NaN</td>\n",
       "      <td>NaN</td>\n",
       "      <td>NaN</td>\n",
       "      <td>NaN</td>\n",
       "      <td>NaN</td>\n",
       "      <td>NaN</td>\n",
       "      <td>NaN</td>\n",
       "      <td>N</td>\n",
       "      <td>NaN</td>\n",
       "      <td>NaN</td>\n",
       "      <td>Y</td>\n",
       "      <td>NaN</td>\n",
       "      <td>NaN</td>\n",
       "      <td>NaN</td>\n",
       "      <td>N</td>\n",
       "      <td>NaN</td>\n",
       "      <td>37,981.00</td>\n",
       "      <td>NaN</td>\n",
       "      <td>Year</td>\n",
       "      <td>NaN</td>\n",
       "      <td>NaN</td>\n",
       "      <td>NaN</td>\n",
       "    </tr>\n",
       "    <tr>\n",
       "      <th>374361</th>\n",
       "      <td>NaN</td>\n",
       "      <td>Phoenix</td>\n",
       "      <td>Fragomen, Del Rey, Bernsen &amp; Loewy, LLP</td>\n",
       "      <td>AZ</td>\n",
       "      <td>NaN</td>\n",
       "      <td>NaN</td>\n",
       "      <td>A-16279-59292</td>\n",
       "      <td>2016-12-30</td>\n",
       "      <td>Withdrawn</td>\n",
       "      <td>H-1B</td>\n",
       "      <td>CHINA</td>\n",
       "      <td>NaN</td>\n",
       "      <td>2016-12-30</td>\n",
       "      <td>2200 MISSION COLLEGE BLVD.</td>\n",
       "      <td>None</td>\n",
       "      <td>SANTA CLARA</td>\n",
       "      <td>UNITED STATES OF AMERICA</td>\n",
       "      <td>U.S. Immigration Ops Manager</td>\n",
       "      <td>INTEL CORPORATION</td>\n",
       "      <td>54000.0</td>\n",
       "      <td>4087658080</td>\n",
       "      <td>NaN</td>\n",
       "      <td>95052</td>\n",
       "      <td>CA</td>\n",
       "      <td>1968.0</td>\n",
       "      <td>NaN</td>\n",
       "      <td>NaN</td>\n",
       "      <td>FORT COLLINS</td>\n",
       "      <td>Master's</td>\n",
       "      <td>NaN</td>\n",
       "      <td>UNIVERSITY OF MICHIGAN, ANN ARBOR</td>\n",
       "      <td>ELECTRICAL ENGINEERING</td>\n",
       "      <td>NaN</td>\n",
       "      <td>NaN</td>\n",
       "      <td>NaN</td>\n",
       "      <td>CO</td>\n",
       "      <td>NaN</td>\n",
       "      <td>NaN</td>\n",
       "      <td>NaN</td>\n",
       "      <td>A</td>\n",
       "      <td>CHINA</td>\n",
       "      <td>None</td>\n",
       "      <td>...</td>\n",
       "      <td>NaN</td>\n",
       "      <td>NaN</td>\n",
       "      <td>NaN</td>\n",
       "      <td>2016-09-01</td>\n",
       "      <td>2016-09-01</td>\n",
       "      <td>Y</td>\n",
       "      <td>NaN</td>\n",
       "      <td>NaN</td>\n",
       "      <td>2016-08-28</td>\n",
       "      <td>Y</td>\n",
       "      <td>2016-10-03</td>\n",
       "      <td>2016-08-31</td>\n",
       "      <td>N</td>\n",
       "      <td>Fort Collins Coloradoan</td>\n",
       "      <td>Fort Collins Coloradoan</td>\n",
       "      <td>Y</td>\n",
       "      <td>NaN</td>\n",
       "      <td>NaN</td>\n",
       "      <td>NaN</td>\n",
       "      <td>None</td>\n",
       "      <td>NaN</td>\n",
       "      <td>NaN</td>\n",
       "      <td>NaN</td>\n",
       "      <td>NaN</td>\n",
       "      <td>NaN</td>\n",
       "      <td>2016-08-29</td>\n",
       "      <td>2016-09-06</td>\n",
       "      <td>N</td>\n",
       "      <td>2016-08-19</td>\n",
       "      <td>2016-09-01</td>\n",
       "      <td>Y</td>\n",
       "      <td>NaN</td>\n",
       "      <td>NaN</td>\n",
       "      <td>NaN</td>\n",
       "      <td>N</td>\n",
       "      <td>NaN</td>\n",
       "      <td>84,926.00</td>\n",
       "      <td>121,500.00</td>\n",
       "      <td>Year</td>\n",
       "      <td>NaN</td>\n",
       "      <td>NaN</td>\n",
       "      <td>NaN</td>\n",
       "    </tr>\n",
       "  </tbody>\n",
       "</table>\n",
       "<p>5 rows × 154 columns</p>\n",
       "</div>"
      ],
      "text/plain": [
       "       add_these_pw_job_title_9089   agent_city  \\\n",
       "374357                         NaN   Buena Park   \n",
       "374358                         NaN      Seattle   \n",
       "374359                         NaN   Schaumburg   \n",
       "374360                         NaN  LOS ANGELES   \n",
       "374361                         NaN      Phoenix   \n",
       "\n",
       "                                          agent_firm_name agent_state  \\\n",
       "374357                           Law Offices of Yohan Lee          CA   \n",
       "374358                         MacDonald Hoague & Bayless          WA   \n",
       "374359  International Legal and Business Services Grou...          IL   \n",
       "374360                        LAW OFFICES OF JAMES S HONG          CA   \n",
       "374361            Fragomen, Del Rey, Bernsen & Loewy, LLP          AZ   \n",
       "\n",
       "       application_type case_no    case_number case_received_date case_status  \\\n",
       "374357              NaN     NaN  A-16363-85407         2016-12-29   Withdrawn   \n",
       "374358              NaN     NaN  A-16271-56745         2016-12-30   Withdrawn   \n",
       "374359              NaN     NaN  A-16354-82345         2016-12-30   Withdrawn   \n",
       "374360              NaN     NaN  A-16357-84250         2016-12-30   Withdrawn   \n",
       "374361              NaN     NaN  A-16279-59292         2016-12-30   Withdrawn   \n",
       "\n",
       "       class_of_admission country_of_citizenship country_of_citzenship  \\\n",
       "374357                NaN            SOUTH KOREA                   NaN   \n",
       "374358                L-1                VIETNAM                   NaN   \n",
       "374359               H-1B                  INDIA                   NaN   \n",
       "374360                B-2            SOUTH KOREA                   NaN   \n",
       "374361               H-1B                  CHINA                   NaN   \n",
       "\n",
       "       decision_date           employer_address_1 employer_address_2  \\\n",
       "374357    2016-12-30  434 S EUCLID STREET STE 100               None   \n",
       "374358    2016-12-30            ONE MICROSOFT WAY               None   \n",
       "374359    2016-12-30           220 W MICHIGAN AVE               None   \n",
       "374360    2016-12-30         3957 E. Camelback Rd               None   \n",
       "374361    2016-12-30   2200 MISSION COLLEGE BLVD.               None   \n",
       "\n",
       "       employer_city          employer_country      employer_decl_info_title  \\\n",
       "374357       ANAHEIM  UNITED STATES OF AMERICA                     President   \n",
       "374358       REDMOND  UNITED STATES OF AMERICA   Microsoft In-House Attorney   \n",
       "374359     YPSILANTI  UNITED STATES OF AMERICA                      Director   \n",
       "374360       Phoenix  UNITED STATES OF AMERICA                     President   \n",
       "374361   SANTA CLARA  UNITED STATES OF AMERICA  U.S. Immigration Ops Manager   \n",
       "\n",
       "                           employer_name  employer_num_employees  \\\n",
       "374357  UNION DENTAL GROUP ANAHEIM, INC.                     3.0   \n",
       "374358             MICROSOFT CORPORATION                 63000.0   \n",
       "374359                AMPHION GLOBAL INC                    33.0   \n",
       "374360                    Zen Sushi, Inc                    16.0   \n",
       "374361                 INTEL CORPORATION                 54000.0   \n",
       "\n",
       "       employer_phone employer_phone_ext employer_postal_code employer_state  \\\n",
       "374357     7145330900                NaN                92802             CA   \n",
       "374358   425-538-3872                NaN                98052             WA   \n",
       "374359     6143568160                NaN                48197             MI   \n",
       "374360   602-956-2354                NaN                85018             AZ   \n",
       "374361     4087658080                NaN                95052             CA   \n",
       "\n",
       "        employer_yr_estab foreign_worker_info_alt_edu_experience  \\\n",
       "374357             2014.0                                    NaN   \n",
       "374358             1975.0                                    NaN   \n",
       "374359             2010.0                                    NaN   \n",
       "374360             2013.0                                    NaN   \n",
       "374361             1968.0                                    NaN   \n",
       "\n",
       "       foreign_worker_info_birth_country foreign_worker_info_city  \\\n",
       "374357                               NaN               SIHEUNG-SI   \n",
       "374358                               NaN                   QUINCY   \n",
       "374359                               NaN                 DEARBORN   \n",
       "374360                               NaN              LOS ANGELES   \n",
       "374361                               NaN             FORT COLLINS   \n",
       "\n",
       "       foreign_worker_info_education foreign_worker_info_education_other  \\\n",
       "374357                   Associate's                                 NaN   \n",
       "374358                    Bachelor's                                 NaN   \n",
       "374359                      Master's                                 NaN   \n",
       "374360                          None                                 NaN   \n",
       "374361                      Master's                                 NaN   \n",
       "\n",
       "                               foreign_worker_info_inst  \\\n",
       "374357                              YOUNGSAN UNIVERSITY   \n",
       "374358  HO CHI MINH CITY UNIVERSITY OF NATURAL SCIENCES   \n",
       "374359                       CLEVELAND STATE UNIVERSITY   \n",
       "374360                                              NaN   \n",
       "374361                UNIVERSITY OF MICHIGAN, ANN ARBOR   \n",
       "\n",
       "                     foreign_worker_info_major  \\\n",
       "374357                                 ENGLISH   \n",
       "374358                  INFORMATION TECHNOLOGY   \n",
       "374359  ELECTRICAL AND ELECTRONICS ENGINEERING   \n",
       "374360                                     NaN   \n",
       "374361                  ELECTRICAL ENGINEERING   \n",
       "\n",
       "       foreign_worker_info_postal_code foreign_worker_info_rel_occup_exp  \\\n",
       "374357                             NaN                               NaN   \n",
       "374358                             NaN                               NaN   \n",
       "374359                             NaN                               NaN   \n",
       "374360                             NaN                               NaN   \n",
       "374361                             NaN                               NaN   \n",
       "\n",
       "       foreign_worker_info_req_experience foreign_worker_info_state  \\\n",
       "374357                                NaN                       NaN   \n",
       "374358                                NaN                        MA   \n",
       "374359                                NaN                        MI   \n",
       "374360                                NaN                        CA   \n",
       "374361                                NaN                        CO   \n",
       "\n",
       "       foreign_worker_info_training_comp foreign_worker_ownership_interest  \\\n",
       "374357                               NaN                               NaN   \n",
       "374358                               NaN                               NaN   \n",
       "374359                               NaN                               NaN   \n",
       "374360                               NaN                               NaN   \n",
       "374361                               NaN                               NaN   \n",
       "\n",
       "        foreign_worker_yr_rel_edu_completed fw_info_alt_edu_experience  \\\n",
       "374357                                  NaN                          A   \n",
       "374358                                  NaN                          Y   \n",
       "374359                                  NaN                          A   \n",
       "374360                                  NaN                          A   \n",
       "374361                                  NaN                          A   \n",
       "\n",
       "       fw_info_birth_country fw_info_education_other  \\\n",
       "374357           SOUTH KOREA                    None   \n",
       "374358               VIETNAM                    None   \n",
       "374359                 INDIA                    None   \n",
       "374360           SOUTH KOREA                    None   \n",
       "374361                 CHINA                    None   \n",
       "\n",
       "                    ...              recr_info_on_campus_recr_to  \\\n",
       "374357              ...                                      NaN   \n",
       "374358              ...                                      NaN   \n",
       "374359              ...                                      NaN   \n",
       "374360              ...                                      NaN   \n",
       "374361              ...                                      NaN   \n",
       "\n",
       "       recr_info_pro_org_advert_from recr_info_pro_org_advert_to  \\\n",
       "374357                           NaN                         NaN   \n",
       "374358                           NaN                         NaN   \n",
       "374359                           NaN                         NaN   \n",
       "374360                           NaN                         NaN   \n",
       "374361                           NaN                         NaN   \n",
       "\n",
       "       recr_info_prof_org_advert_from  recr_info_prof_org_advert_to  \\\n",
       "374357                            NaN                           NaN   \n",
       "374358                     2016-09-01                    2016-09-01   \n",
       "374359                            NaN                           NaN   \n",
       "374360                            NaN                           NaN   \n",
       "374361                     2016-09-01                    2016-09-01   \n",
       "\n",
       "       recr_info_professional_occ recr_info_radio_tv_ad_from  \\\n",
       "374357                          N                        NaN   \n",
       "374358                          Y                        NaN   \n",
       "374359                          Y                        NaN   \n",
       "374360                          N                        NaN   \n",
       "374361                          Y                        NaN   \n",
       "\n",
       "       recr_info_radio_tv_ad_to recr_info_second_ad_start  \\\n",
       "374357                      NaN                2016-10-30   \n",
       "374358                      NaN                2016-07-31   \n",
       "374359                      NaN                2016-07-31   \n",
       "374360                      NaN                2016-09-18   \n",
       "374361                      NaN                2016-08-28   \n",
       "\n",
       "       recr_info_sunday_newspaper recr_info_swa_job_order_end  \\\n",
       "374357                          Y                  2016-11-19   \n",
       "374358                          Y                  2016-08-30   \n",
       "374359                          Y                  2016-08-22   \n",
       "374360                          Y                  2016-09-26   \n",
       "374361                          Y                  2016-10-03   \n",
       "\n",
       "       recr_info_swa_job_order_start  refile ri_1st_ad_newspaper_name  \\\n",
       "374357                    2016-10-19       N   Orange County Register   \n",
       "374358                    2016-07-26       N         The Boston Globe   \n",
       "374359                    2016-07-18       N       Detroit Free Press   \n",
       "374360                    2016-08-24       N     The Arizona Republic   \n",
       "374361                    2016-08-31       N  Fort Collins Coloradoan   \n",
       "\n",
       "       ri_2nd_ad_newspaper_name ri_2nd_ad_newspaper_or_journal  \\\n",
       "374357   Orange County Register                              Y   \n",
       "374358         The Boston Globe                              Y   \n",
       "374359       Detroit Free Press                              Y   \n",
       "374360     The Arizona Republic                              Y   \n",
       "374361  Fort Collins Coloradoan                              Y   \n",
       "\n",
       "       ri_campus_placement_from ri_campus_placement_to  \\\n",
       "374357                      NaN                    NaN   \n",
       "374358                      NaN                    NaN   \n",
       "374359                      NaN                    NaN   \n",
       "374360                      NaN                    NaN   \n",
       "374361                      NaN                    NaN   \n",
       "\n",
       "       ri_coll_tch_basic_process ri_coll_teach_pro_jnl  \\\n",
       "374357                       NaN                  None   \n",
       "374358                       NaN                  None   \n",
       "374359                       NaN                  None   \n",
       "374360                       NaN                  None   \n",
       "374361                       NaN                  None   \n",
       "\n",
       "        ri_coll_teach_select_date ri_employee_referral_prog_from  \\\n",
       "374357                        NaN                            NaN   \n",
       "374358                        NaN                            NaN   \n",
       "374359                        NaN                            NaN   \n",
       "374360                        NaN                            NaN   \n",
       "374361                        NaN                            NaN   \n",
       "\n",
       "       ri_employee_referral_prog_to ri_employer_web_post_from  \\\n",
       "374357                          NaN                       NaN   \n",
       "374358                          NaN                       NaN   \n",
       "374359                          NaN                2016-07-18   \n",
       "374360                          NaN                       NaN   \n",
       "374361                          NaN                       NaN   \n",
       "\n",
       "       ri_employer_web_post_to  ri_job_search_website_from  \\\n",
       "374357                     NaN                         NaN   \n",
       "374358                     NaN                  2016-07-27   \n",
       "374359              2016-08-16                  2016-07-19   \n",
       "374360                     NaN                         NaN   \n",
       "374361                     NaN                  2016-08-29   \n",
       "\n",
       "       ri_job_search_website_to ri_layoff_in_past_six_months  \\\n",
       "374357                      NaN                            N   \n",
       "374358               2016-08-05                            Y   \n",
       "374359               2016-08-16                            N   \n",
       "374360                      NaN                            N   \n",
       "374361               2016-09-06                            N   \n",
       "\n",
       "       ri_local_ethnic_paper_from ri_local_ethnic_paper_to  \\\n",
       "374357                        NaN                      NaN   \n",
       "374358                 2016-07-27               2016-07-27   \n",
       "374359                 2016-07-21               2016-07-28   \n",
       "374360                        NaN                      NaN   \n",
       "374361                 2016-08-19               2016-09-01   \n",
       "\n",
       "       ri_posted_notice_at_worksite ri_pvt_employment_firm_from  \\\n",
       "374357                            Y                         NaN   \n",
       "374358                            Y                         NaN   \n",
       "374359                            Y                         NaN   \n",
       "374360                            Y                         NaN   \n",
       "374361                            Y                         NaN   \n",
       "\n",
       "       ri_pvt_employment_firm_to  ri_us_workers_considered schd_a_sheepherder  \\\n",
       "374357                       NaN                       NaN                  N   \n",
       "374358                       NaN                         Y                  N   \n",
       "374359                       NaN                       NaN                  N   \n",
       "374360                       NaN                       NaN                  N   \n",
       "374361                       NaN                       NaN                  N   \n",
       "\n",
       "       us_economic_sector wage_offer_from_9089 wage_offer_to_9089  \\\n",
       "374357                NaN            28,330.00                NaN   \n",
       "374358                NaN           122,000.00         142,000.00   \n",
       "374359                NaN            79,082.00          79,082.00   \n",
       "374360                NaN            37,981.00                NaN   \n",
       "374361                NaN            84,926.00         121,500.00   \n",
       "\n",
       "       wage_offer_unit_of_pay_9089 wage_offered_from_9089  \\\n",
       "374357                        Year                    NaN   \n",
       "374358                        Year                    NaN   \n",
       "374359                        Year                    NaN   \n",
       "374360                        Year                    NaN   \n",
       "374361                        Year                    NaN   \n",
       "\n",
       "       wage_offered_to_9089 wage_offered_unit_of_pay_9089  \n",
       "374357                  NaN                           NaN  \n",
       "374358                  NaN                           NaN  \n",
       "374359                  NaN                           NaN  \n",
       "374360                  NaN                           NaN  \n",
       "374361                  NaN                           NaN  \n",
       "\n",
       "[5 rows x 154 columns]"
      ]
     },
     "execution_count": 5,
     "metadata": {},
     "output_type": "execute_result"
    }
   ],
   "source": [
    "# Displaying 5 last rows\n",
    "df.tail()"
   ]
  },
  {
   "cell_type": "markdown",
   "metadata": {
    "_cell_guid": "ec786a34-f98b-4de9-821f-3691f143cdc9",
    "_uuid": "d69d680be501112f61c63927d17eebac0d406c06"
   },
   "source": [
    "As we can see, our data set consists of 374362 applications described by 153 attributes. Since we have 2 attributes that may contain similar information - <i>case_number</i> & <i>case_no</i> - let's check their lenghts, completeness and example values."
   ]
  },
  {
   "cell_type": "code",
   "execution_count": 6,
   "metadata": {
    "_cell_guid": "2710e144-4b55-407e-9fe1-68374089153c",
    "_kg_hide-input": true,
    "_uuid": "599f8d6c9f12a4a5b319dc2bf40d41d1da68fb9c"
   },
   "outputs": [
    {
     "name": "stdout",
     "output_type": "stream",
     "text": [
      "Length of 'case_number' column is:  374362  with 135269 missing values\n",
      "Length of 'case_no' column is:  374362  with 239093 missing values \n",
      "\n",
      "First 2 values of case_number column are : \n",
      " 0    NaN\n",
      "1    NaN\n",
      "Name: case_number, dtype: object \n",
      "\n",
      "Last 2 values of case_number column are : \n",
      " 374360    A-16357-84250\n",
      "374361    A-16279-59292\n",
      "Name: case_number, dtype: object \n",
      "\n",
      "First 2 values of case_no column are : \n",
      " 0    A-07323-97014\n",
      "1    A-07332-99439\n",
      "Name: case_no, dtype: object \n",
      "\n",
      "Last 2 values of case_no column are : \n",
      " 374360    NaN\n",
      "374361    NaN\n",
      "Name: case_no, dtype: object\n"
     ]
    }
   ],
   "source": [
    "print(\"Length of 'case_number' column is: \", len(df['case_number']),\" with\",df.case_number.isnull().sum(), \"missing values\")\n",
    "print(\"Length of 'case_no' column is: \", len(df['case_no']),\" with\", df.case_no.isnull().sum(),\"missing values \\n\")\n",
    "\n",
    "print(\"First 2 values of case_number column are : \\n\", df['case_number'].head(2),\"\\n\")\n",
    "print(\"Last 2 values of case_number column are : \\n\", df['case_number'].tail(2), \"\\n\")\n",
    "print(\"First 2 values of case_no column are : \\n\", df['case_no'].head(2), \"\\n\")\n",
    "print(\"Last 2 values of case_no column are : \\n\", df['case_no'].tail(2))"
   ]
  },
  {
   "cell_type": "markdown",
   "metadata": {
    "_cell_guid": "39e8f006-8d2e-46b5-ac3a-6299e8221e70",
    "_uuid": "3ef40ec726ebc841a381edb992fd277eb45fd691"
   },
   "source": [
    "As we supposed, these columns contain similar values and their \"NaN\" values add up to the total number of observations so let's create new column containing only non missing values from both \"case_number\" and \"case_no\" columns and remove them afterwards."
   ]
  },
  {
   "cell_type": "code",
   "execution_count": 7,
   "metadata": {
    "_cell_guid": "93670c30-bca6-4c82-8c37-26bde952cbca",
    "_uuid": "9f068fa866f8a02cbfe31630c7d6b8c7fd118cf0"
   },
   "outputs": [],
   "source": [
    "casenoindex = df.columns.get_loc(\"case_no\")\n",
    "casenumberindex = df.columns.get_loc(\"case_number\")\n",
    "casenumberlist = []\n",
    "\n",
    "for value in df.iloc[0:135269,casenoindex]:\n",
    "    casenumberlist.append(value)\n",
    "    \n",
    "for value in df.iloc[135269:374363,casenumberindex]:\n",
    "    casenumberlist.append(value)\n",
    "    \n",
    "df['casenumber'] = casenumberlist\n",
    "df.drop(df.columns[[casenoindex,casenumberindex]], axis=1, inplace=True)"
   ]
  },
  {
   "cell_type": "markdown",
   "metadata": {
    "_cell_guid": "1033dfd1-e28c-4e5c-bb1e-37e1e1788c1a",
    "_uuid": "6836fa52bd391e6ad083e186891d719afae5513d"
   },
   "source": [
    "Now, let's check the \"case_status\" column as it may contain information about decision made for respective Visa application and print the length of unique values it contains."
   ]
  },
  {
   "cell_type": "code",
   "execution_count": 8,
   "metadata": {
    "_cell_guid": "5f6a5796-295d-45b4-be71-225ee4f035ef",
    "_uuid": "22a0f38b3b56cba199dc8963c544084fcd068da0"
   },
   "outputs": [
    {
     "data": {
      "text/plain": [
       "Certified            181933\n",
       "Certified-Expired    148586\n",
       "Denied                25649\n",
       "Withdrawn             18194\n",
       "Name: case_status, dtype: int64"
      ]
     },
     "execution_count": 8,
     "metadata": {},
     "output_type": "execute_result"
    }
   ],
   "source": [
    "# Printing number of unique values for 'case_status' column\n",
    "df['case_status'].value_counts()"
   ]
  },
  {
   "cell_type": "markdown",
   "metadata": {
    "_cell_guid": "9695e479-c151-47ad-b6c6-c2bbb180c684",
    "_uuid": "8716e9f661d36cbe5691c773842c7ea846e336a0"
   },
   "source": [
    "\n",
    "\n",
    "\n",
    "Since our observations contain some records with status == \"Withdrawn\", we will remove them from our dataset and for cases where status is \"Certified\" or \"Certified-Expired\" we will use just one value \" Certified\" so that we will end up having only the desired values namely \"Certified\" and \"Denied\".  According to Wikipedia and other internet resources, petitioners have 6 months time to file I-140 form after receiving the status of \"Certified\" before it expires and turns to \"Certified-Expired\" status.\n",
    "\n",
    "Form I-140, Immigrant Petition for Alien Worker is a form submitted to the United States Citizenship and Immigration Services (USCIS) by a prospective employer to petition an alien to work in the US on a permanent basis. This is done in the case when the worker is deemed extraordinary in some sense or when qualified workers do not exist in the US."
   ]
  },
  {
   "cell_type": "code",
   "execution_count": 9,
   "metadata": {
    "_cell_guid": "60c15519-06f8-46de-a1fa-5d43ffea7e43",
    "_uuid": "46edbc78e95db8a9b42aab1a9fde80bcce3ddcbb"
   },
   "outputs": [
    {
     "data": {
      "text/plain": [
       "Certified    330519\n",
       "Denied        25649\n",
       "Name: case_status, dtype: int64"
      ]
     },
     "execution_count": 9,
     "metadata": {},
     "output_type": "execute_result"
    }
   ],
   "source": [
    "# Removing all withdrawn applications\n",
    "df = df[df.case_status != 'Withdrawn']\n",
    "\n",
    "# Combining certified-expired and certified applications and displaying distribution of \"case_status\" variable\n",
    "df.loc[df.case_status == 'Certified-Expired', 'case_status'] = 'Certified'\n",
    "df.case_status.value_counts()"
   ]
  },
  {
   "cell_type": "markdown",
   "metadata": {
    "_cell_guid": "b25cf27a-1492-44bc-8396-828d074a3f33",
    "_uuid": "5374b64dfc0cf63652a8c936a34fcbaa4f6ab5e5",
    "collapsed": true
   },
   "source": [
    "It's interesting that only 7.2% of Visa applications were denied. This means that we are dealing with highly imbalanced dataset hence stratified Cross Validation will be required in order to train models in a correct fashion.  Now, let's perform dimensionality reduction by removing rows and columns containing only 'NaN' values and check the dataframe's shape."
   ]
  },
  {
   "cell_type": "code",
   "execution_count": 10,
   "metadata": {
    "_cell_guid": "549268fc-9bb6-4973-adec-ffe2bc4be01e",
    "_uuid": "e2c3c7f8c25ff24f340110ff32bfdbac1efb8103"
   },
   "outputs": [
    {
     "data": {
      "text/plain": [
       "(356168, 153)"
      ]
     },
     "execution_count": 10,
     "metadata": {},
     "output_type": "execute_result"
    }
   ],
   "source": [
    "# Dropping all empty columns\n",
    "df = df.dropna(axis=1, how='all');\n",
    "\n",
    "# Dropping all empty rows\n",
    "df = df.dropna(axis=0, how='all');\n",
    "\n",
    "df.shape"
   ]
  },
  {
   "cell_type": "markdown",
   "metadata": {
    "_cell_guid": "d76c2cc5-23b7-4ab2-83b7-8b257de524c0",
    "_uuid": "ab29e34e56bf957fe2a56c45fc2c2341a94f3624"
   },
   "source": [
    "It looks like there are neither rows nor columns containing only 'NaN' values so let's check how many columns contains any missing values."
   ]
  },
  {
   "cell_type": "code",
   "execution_count": 11,
   "metadata": {
    "_cell_guid": "15aeb80b-53ff-4ef2-a814-cf08c3d837a6",
    "_uuid": "87451615d830dea713e11451cde22b01b4ad86b1",
    "scrolled": false
   },
   "outputs": [],
   "source": [
    "# Importing 'percent_missing' function from helper module to calculate the percentage of missing values across columns\n",
    "from helper import percent_missing\n",
    "\n",
    "missing = percent_missing(df, quantity = 50)"
   ]
  },
  {
   "cell_type": "code",
   "execution_count": 12,
   "metadata": {},
   "outputs": [
    {
     "data": {
      "text/html": [
       "<div>\n",
       "<style scoped>\n",
       "    .dataframe tbody tr th:only-of-type {\n",
       "        vertical-align: middle;\n",
       "    }\n",
       "\n",
       "    .dataframe tbody tr th {\n",
       "        vertical-align: top;\n",
       "    }\n",
       "\n",
       "    .dataframe thead th {\n",
       "        text-align: right;\n",
       "    }\n",
       "</style>\n",
       "<table border=\"1\" class=\"dataframe\">\n",
       "  <thead>\n",
       "    <tr style=\"text-align: right;\">\n",
       "      <th></th>\n",
       "      <th>Missing Ratio</th>\n",
       "    </tr>\n",
       "  </thead>\n",
       "  <tbody>\n",
       "    <tr>\n",
       "      <th>orig_file_date</th>\n",
       "      <td>99.925878</td>\n",
       "    </tr>\n",
       "    <tr>\n",
       "      <th>orig_case_no</th>\n",
       "      <td>99.922508</td>\n",
       "    </tr>\n",
       "    <tr>\n",
       "      <th>recr_info_job_fair_to</th>\n",
       "      <td>99.517924</td>\n",
       "    </tr>\n",
       "    <tr>\n",
       "      <th>recr_info_job_fair_from</th>\n",
       "      <td>99.516801</td>\n",
       "    </tr>\n",
       "    <tr>\n",
       "      <th>recr_info_on_campus_recr_to</th>\n",
       "      <td>99.506413</td>\n",
       "    </tr>\n",
       "    <tr>\n",
       "      <th>recr_info_on_campus_recr_from</th>\n",
       "      <td>99.504447</td>\n",
       "    </tr>\n",
       "    <tr>\n",
       "      <th>ji_live_in_dom_svc_contract</th>\n",
       "      <td>99.350587</td>\n",
       "    </tr>\n",
       "    <tr>\n",
       "      <th>foreign_worker_info_education_other</th>\n",
       "      <td>98.947968</td>\n",
       "    </tr>\n",
       "    <tr>\n",
       "      <th>job_info_training_field</th>\n",
       "      <td>98.795231</td>\n",
       "    </tr>\n",
       "    <tr>\n",
       "      <th>job_info_training_num_months</th>\n",
       "      <td>98.716336</td>\n",
       "    </tr>\n",
       "    <tr>\n",
       "      <th>ri_coll_teach_select_date</th>\n",
       "      <td>98.443993</td>\n",
       "    </tr>\n",
       "    <tr>\n",
       "      <th>ri_coll_tch_basic_process</th>\n",
       "      <td>98.094719</td>\n",
       "    </tr>\n",
       "    <tr>\n",
       "      <th>recr_info_coll_teach_comp_proc</th>\n",
       "      <td>98.092473</td>\n",
       "    </tr>\n",
       "    <tr>\n",
       "      <th>job_info_education_other</th>\n",
       "      <td>97.909975</td>\n",
       "    </tr>\n",
       "    <tr>\n",
       "      <th>job_info_alt_combo_ed_other</th>\n",
       "      <td>97.475349</td>\n",
       "    </tr>\n",
       "    <tr>\n",
       "      <th>recr_info_pro_org_advert_to</th>\n",
       "      <td>96.268896</td>\n",
       "    </tr>\n",
       "    <tr>\n",
       "      <th>recr_info_pro_org_advert_from</th>\n",
       "      <td>96.267211</td>\n",
       "    </tr>\n",
       "    <tr>\n",
       "      <th>pw_source_name_other_9089</th>\n",
       "      <td>95.720840</td>\n",
       "    </tr>\n",
       "    <tr>\n",
       "      <th>ri_pvt_employment_firm_to</th>\n",
       "      <td>95.475169</td>\n",
       "    </tr>\n",
       "    <tr>\n",
       "      <th>ri_pvt_employment_firm_from</th>\n",
       "      <td>95.474607</td>\n",
       "    </tr>\n",
       "  </tbody>\n",
       "</table>\n",
       "</div>"
      ],
      "text/plain": [
       "                                     Missing Ratio\n",
       "orig_file_date                           99.925878\n",
       "orig_case_no                             99.922508\n",
       "recr_info_job_fair_to                    99.517924\n",
       "recr_info_job_fair_from                  99.516801\n",
       "recr_info_on_campus_recr_to              99.506413\n",
       "recr_info_on_campus_recr_from            99.504447\n",
       "ji_live_in_dom_svc_contract              99.350587\n",
       "foreign_worker_info_education_other      98.947968\n",
       "job_info_training_field                  98.795231\n",
       "job_info_training_num_months             98.716336\n",
       "ri_coll_teach_select_date                98.443993\n",
       "ri_coll_tch_basic_process                98.094719\n",
       "recr_info_coll_teach_comp_proc           98.092473\n",
       "job_info_education_other                 97.909975\n",
       "job_info_alt_combo_ed_other              97.475349\n",
       "recr_info_pro_org_advert_to              96.268896\n",
       "recr_info_pro_org_advert_from            96.267211\n",
       "pw_source_name_other_9089                95.720840\n",
       "ri_pvt_employment_firm_to                95.475169\n",
       "ri_pvt_employment_firm_from              95.474607"
      ]
     },
     "execution_count": 12,
     "metadata": {},
     "output_type": "execute_result"
    }
   ],
   "source": [
    "missing.head(20)"
   ]
  },
  {
   "cell_type": "code",
   "execution_count": 13,
   "metadata": {},
   "outputs": [
    {
     "data": {
      "image/png": "[encoded data removed]",
      "text/plain": [
       "<matplotlib.figure.Figure at 0xc261438>"
      ]
     },
     "metadata": {},
     "output_type": "display_data"
    }
   ],
   "source": [
    "# Importing 'plot_bar' function from helper module to plot the distribution of missing data across features\n",
    "from helper import plot_bar\n",
    "\n",
    "plot_bar(x = missing.index, y = missing['Missing Ratio'].values, xlabel = 'Features', ylabel = 'Percent of missing values', title = 'Percent of missing data by feature', figsize = (16,12))"
   ]
  },
  {
   "cell_type": "markdown",
   "metadata": {
    "_cell_guid": "d0e07649-f33d-42f0-b5cb-3293c421dd5b",
    "_uuid": "454242a21a40d30afd2eabc6d0b2485a5b082075"
   },
   "source": [
    "## Visualization of the unprocessed data"
   ]
  },
  {
   "cell_type": "markdown",
   "metadata": {
    "_cell_guid": "7f589bd0-5a1b-4410-9a89-d7fd1bb7b334",
    "_uuid": "59a36f7e2c4381a24fb21fbb6599fa8615b4c874"
   },
   "source": [
    "Before removing columns which consist mostly of missing values, let's create a new column containing only the year of Visa application submission and perform some visualisation in order to derive initial insights ."
   ]
  },
  {
   "cell_type": "code",
   "execution_count": 14,
   "metadata": {
    "_cell_guid": "6e64f8e4-b430-428c-8a85-acd21c6ed0e3",
    "_uuid": "c8056f9bcff5361e223ff27bac72ce2b09f7fb9e"
   },
   "outputs": [
    {
     "data": {
      "image/png": "[encoded data removed]",
      "text/plain": [
       "<matplotlib.figure.Figure at 0xd19fb70>"
      ]
     },
     "metadata": {},
     "output_type": "display_data"
    }
   ],
   "source": [
    "# Converting the date to contain just the year of application submission\n",
    "df['year'] = df['decision_date'].dt.year\n",
    "\n",
    "# Importing 'plot_counts' function from helper module which we will use to display count plots of desired features\n",
    "from helper import plot_counts    \n",
    "\n",
    "plot_counts(df, x = 'year', hue = 'case_status', figsize = (15, 9),\n",
    "            xlabel = 'Year', ylabel = 'Count', title = 'Number of Visa Applications by Year', fontsize = 15)"
   ]
  },
  {
   "cell_type": "code",
   "execution_count": 15,
   "metadata": {},
   "outputs": [
    {
     "data": {
      "text/plain": [
       "2011     10602\n",
       "2012     21954\n",
       "2013     37473\n",
       "2014     73881\n",
       "2015     92338\n",
       "2016    119920\n",
       "Name: year, dtype: int64"
      ]
     },
     "execution_count": 15,
     "metadata": {},
     "output_type": "execute_result"
    }
   ],
   "source": [
    "df['year'].value_counts(ascending = True)"
   ]
  },
  {
   "cell_type": "markdown",
   "metadata": {
    "_cell_guid": "83656de7-2ef5-4090-95a9-19fb53e34769",
    "_uuid": "37d09690fb514948a07d8772c2f00e9f7c92ddb1"
   },
   "source": [
    "As we can observe, the number of submitted Visa applications increases every year. It's interesting that while the number of possitively considered applications increases, the number of \"Denied\" ones seems to be similar from year 2013. As a next step, let's see, what where the most popular cities."
   ]
  },
  {
   "cell_type": "code",
   "execution_count": 16,
   "metadata": {
    "_cell_guid": "101fdc7a-8d39-44ab-8ed4-8f3834e81e3d",
    "_uuid": "73ea8f897346e0ddcd8eef8227e66a01871276cb"
   },
   "outputs": [
    {
     "data": {
      "text/plain": [
       "NEW YORK           17198\n",
       "COLLEGE STATION    11985\n",
       "SANTA CLARA        10519\n",
       "SAN JOSE            9147\n",
       "REDMOND             8485\n",
       "MOUNTAIN VIEW       8121\n",
       "HOUSTON             6720\n",
       "SAN FRANCISCO       6352\n",
       "SUNNYVALE           6104\n",
       "PLANO               5607\n",
       "CHICAGO             5561\n",
       "SEATTLE             5051\n",
       "EDISON              4056\n",
       "LOS ANGELES         4045\n",
       "SAN DIEGO           3702\n",
       "Name: employer_city, dtype: int64"
      ]
     },
     "execution_count": 16,
     "metadata": {},
     "output_type": "execute_result"
    }
   ],
   "source": [
    "# Displaying 15 most popular cities\n",
    "df['employer_city'] = df['employer_city'].str.upper()\n",
    "df['employer_city'].value_counts().head(15)"
   ]
  },
  {
   "cell_type": "code",
   "execution_count": 17,
   "metadata": {
    "_cell_guid": "f2ba9f7d-3740-47a7-a839-0d6ad42861a9",
    "_uuid": "341125b7b0025625451794cca0c3d7d04ad75a70"
   },
   "outputs": [
    {
     "data": {
      "image/png": "[encoded data removed]",
      "text/plain": [
       "<matplotlib.figure.Figure at 0x13e14c18>"
      ]
     },
     "metadata": {},
     "output_type": "display_data"
    }
   ],
   "source": [
    "plot_counts(df, x = 'employer_city', hue = 'year', palette = sns.cubehelix_palette(6, start=12, dark = 0.3, rot=0.2),\n",
    "            figsize = (16, 9), boundary = 10, ascending = False, xlabel = 'Employer City',\n",
    "            ylabel = 'Count', title = 'Number of Visa Applications by City', rotation = 90, fontsize = 15, style = 'seaborn-whitegrid')"
   ]
  },
  {
   "cell_type": "markdown",
   "metadata": {
    "_cell_guid": "2795a637-a888-4b13-a8ff-caf702a6f617",
    "_uuid": "616e7e47f645c943ed0a23c75648d0109af5362c"
   },
   "source": [
    "In the last few years, the most popular destination cities were: New York, College Station, Santa Clara, San Jose, Redmond, Mountain View, Houston, SunnyVale, San Francisco and Plano. In most of the cities there was a positive trend in Visa applications. A bizarre situation occured in College Station in 2015 where the number of submitted Visa applications was more or less twice as large as in other cities.  \n",
    "\n",
    "\n",
    "Now, let's take a look what were the most hiring employers and economic sectors through these years. For <i>us_economic_sector</i> variable we have only 120 868 non-missing values, but this should give us an insight. "
   ]
  },
  {
   "cell_type": "code",
   "execution_count": 18,
   "metadata": {
    "_cell_guid": "1ea03952-74cd-4988-a6fc-9ac4be88dfb4",
    "_uuid": "37638aa19da4710b57b84f00099fbba73dd79c90"
   },
   "outputs": [
    {
     "data": {
      "image/png": "[encoded data removed]",
      "text/plain": [
       "<matplotlib.figure.Figure at 0x13e14ba8>"
      ]
     },
     "metadata": {},
     "output_type": "display_data"
    }
   ],
   "source": [
    "plot_counts(df, x = 'employer_name', palette = sns.cubehelix_palette(10, start=.5, rot=-.75),\n",
    "            figsize = (16, 9), boundary = 10, ascending = False, xlabel = 'Employer Name',\n",
    "            ylabel = 'Count', title ='Total Number of Visa Applications by Employer', rotation = 90, fontsize = 15, style = 'default')"
   ]
  },
  {
   "cell_type": "markdown",
   "metadata": {
    "_cell_guid": "e645a397-db96-4ff8-a275-c21f7b363891",
    "_uuid": "2d18e60d17e0c7f125df39aa17be65b6908f4b15"
   },
   "source": [
    "As we can see, 9 out of 10 most beneficial companies for Visa applicants are IT industry representatives. This leads to the assumption that IT sector is both most favourable and demanding one in United States. Let's check what is the distribution of industries across all Visa applications."
   ]
  },
  {
   "cell_type": "code",
   "execution_count": 19,
   "metadata": {
    "_cell_guid": "3a69a239-d6dd-4c77-91e2-e43dbd3b86b9",
    "_uuid": "be9871415fd28aabda6e4704107731039426e010"
   },
   "outputs": [
    {
     "data": {
      "image/png": "[encoded data removed]",
      "text/plain": [
       "<matplotlib.figure.Figure at 0xd203be0>"
      ]
     },
     "metadata": {},
     "output_type": "display_data"
    }
   ],
   "source": [
    "# Importing 'plot_pie' function from helper module which we will use to display pie chart of desired feature\n",
    "from helper import plot_pie\n",
    "\n",
    "plot_pie(df, x = 'us_economic_sector', boundary = 10, fontsize = 15,  title = 'Distribution of Visa Applications by Industry')"
   ]
  },
  {
   "cell_type": "markdown",
   "metadata": {
    "_cell_guid": "c01af4ac-2539-41df-9475-7403108a3bbc",
    "_uuid": "69765c4d5f0b02f75dd96df8cd981143ba743f6e"
   },
   "source": [
    "Even our US economic sector sample contained only 120 868 non-missing values, this somehow confirms that IT and Advanced Manufacturing are the most convenient sectors for applying foreigners. As a next step in our EDA, let's take a look at the most desired job titles, citizenships and class of admission of our Visa applicants.  "
   ]
  },
  {
   "cell_type": "code",
   "execution_count": 20,
   "metadata": {
    "_cell_guid": "62418e40-b2f2-427c-b897-47e9aff516b1",
    "_uuid": "24ec722143c98c4443b5fac734e8e17fe1ecddef"
   },
   "outputs": [
    {
     "data": {
      "text/plain": [
       "NaN                                 126889\n",
       "Software Engineer                    14372\n",
       "Computer Systems Analyst - V          4747\n",
       "Senior Software Engineer              3801\n",
       "Computer Systems Analyst - II         3416\n",
       "Software Developer                    2880\n",
       "Assistant Professor                   2604\n",
       "Programmer Analyst                    2534\n",
       "Computer Systems Analyst - IV         2496\n",
       "Systems Analyst                       2034\n",
       "Software Development Engineer II      1630\n",
       "Poultry Processing Worker             1594\n",
       "Component Design Engineer             1064\n",
       "Poultry Processor                     1037\n",
       "Business Analyst                       963\n",
       "software engineer                      932\n",
       "SOFTWARE ENGINEER                      877\n",
       "Senior Programmer Analyst              862\n",
       "Sr. Software Engineer                  847\n",
       "Senior Software Developer              817\n",
       "Name: job_info_job_title, dtype: int64"
      ]
     },
     "execution_count": 20,
     "metadata": {},
     "output_type": "execute_result"
    }
   ],
   "source": [
    "df['job_info_job_title'].value_counts(dropna = False)[:20]"
   ]
  },
  {
   "cell_type": "markdown",
   "metadata": {
    "_cell_guid": "cc489c48-8d49-4916-90e6-1a1650dd24e7",
    "_uuid": "3f3a42921e5f5a9d2583e1995ea137cb8064b80a"
   },
   "source": [
    "Since our column contains job titles with different letter casing we need to standarize them so that\n",
    "value_counts() method will be able to count them more accurately. Also, there are lots of same positions \n",
    "like \"Computer Systems Analyst\" which differ only by the number standing after hyphen so we will \n",
    "split these titles by finding the '-', 'ii' and '/' signs and leaving only the left side of the splitting \n",
    "result. Afterwards, we are going to remove leading and trailing spaces, replace \"sr.\" with \"senior\" values and get rid of  'nan's."
   ]
  },
  {
   "cell_type": "code",
   "execution_count": 21,
   "metadata": {
    "_cell_guid": "19482d0e-edb5-4d64-b2d5-337172b04e78",
    "_uuid": "8d0c881342378da4fb917726c387afd356add6d6"
   },
   "outputs": [
    {
     "data": {
      "text/plain": [
       "software engineer                18624\n",
       "computer systems analyst         12070\n",
       "senior software engineer          5803\n",
       "software developer                4515\n",
       "programmer analyst                3841\n",
       "assistant professor               2869\n",
       "software development engineer     2766\n",
       "systems analyst                   2598\n",
       "senior programmer analyst         1884\n",
       "senior software developer         1625\n",
       "Name: job_info_job_title, dtype: int64"
      ]
     },
     "execution_count": 21,
     "metadata": {},
     "output_type": "execute_result"
    }
   ],
   "source": [
    "# Converting values to lower case\n",
    "df['job_info_job_title'] = df['job_info_job_title'].str.lower()\n",
    "\n",
    "# Splitting job titles by hypen, forward slash or roman numbers from 2 to 4 \n",
    "df['job_info_job_title'] = df['job_info_job_title'].astype(str).str.split(\"[-|/]|(iv|i{2,3})\").str[0]\n",
    "\n",
    "# Replacing 'sr.' with 'senior'\n",
    "df['job_info_job_title'] = df['job_info_job_title'].str.replace('sr.', 'senior')\n",
    "\n",
    "# Removing leading and trailing spaces\n",
    "df['job_info_job_title'] = df['job_info_job_title'].astype(str).str.strip()\n",
    "\n",
    "# Replacing \"NaN\", \"NaT\" and \"nan\" values with np.nan\n",
    "df['job_info_job_title'].replace([\"NaN\", 'NaT','nan'], np.nan, inplace = True)\n",
    "\n",
    "df['job_info_job_title'].value_counts(dropna=True)[:10]"
   ]
  },
  {
   "cell_type": "code",
   "execution_count": 22,
   "metadata": {
    "_cell_guid": "bb8fd874-0bcd-4954-9240-06c2660ff6fd",
    "_uuid": "c7cfc9aa9f8066ab3e8190e8d18e43ffce9feae8"
   },
   "outputs": [
    {
     "data": {
      "image/png": "[encoded data removed]",
      "text/plain": [
       "<matplotlib.figure.Figure at 0x16ff3390>"
      ]
     },
     "metadata": {},
     "output_type": "display_data"
    }
   ],
   "source": [
    "plot_counts(df, x = 'job_info_job_title', figsize = (16, 10), boundary = 10, ascending = False, \n",
    "            rotation = 90, fontsize = 15, palette = sns.color_palette(\"RdBu\", n_colors=10),\n",
    "            style = 'seaborn-whitegrid', xlabel = 'Job Title', ylabel = 'Count', title = 'Total Number of Visa Applications by Job Title')"
   ]
  },
  {
   "cell_type": "markdown",
   "metadata": {
    "_cell_guid": "544e0ee7-a407-49fd-9819-30f4d413eda8",
    "_uuid": "bc4efbc48fae2b3f6e7eb1b834670e73e3b72fd7"
   },
   "source": [
    "Interestingely, all of the most popular positions except  \"assistant professor\" are derived from the IT industry. This is another confirmation that there is a huge demand for IT specialists in USA and being one of them increases our chances to obtain a permanent Visa. "
   ]
  },
  {
   "cell_type": "code",
   "execution_count": 23,
   "metadata": {
    "_cell_guid": "005b01cd-ba72-49cf-bc67-27819abc3ae7",
    "_uuid": "8eb8c22e146ca38e6dfdbb2308a48656d33a99bc"
   },
   "outputs": [
    {
     "data": {
      "image/png": "[encoded data removed]",
      "text/plain": [
       "<matplotlib.figure.Figure at 0x16ff39e8>"
      ]
     },
     "metadata": {},
     "output_type": "display_data"
    }
   ],
   "source": [
    "plot_counts(df, x = 'country_of_citizenship', figsize = (16, 10), boundary = 10, ascending = False, \n",
    "            rotation = 90, fontsize = 15, palette = sns.color_palette('deep', n_colors = 10), style = 'seaborn-whitegrid',\n",
    "           xlabel = 'Citizenship', ylabel = 'Count', title = 'Total Number of Visa Applications by Citizenship')"
   ]
  },
  {
   "cell_type": "markdown",
   "metadata": {
    "_cell_guid": "55baf0ec-4da0-454c-8040-7c9c9864bf98",
    "_uuid": "08a5ade699adb7df5402be36969df7df1ec349b6"
   },
   "source": [
    "As we can see, the majority of Visa applications has been submitted by Indian citizens. They constitute to more than half of our observations, we can assume that most of them are computer specialists. Now let's check what Visa types were the most desired ones."
   ]
  },
  {
   "cell_type": "code",
   "execution_count": 24,
   "metadata": {
    "_cell_guid": "395c73ab-caf2-4b62-bab5-e91402ea7437",
    "_uuid": "5cfcd2e02edfdc278612b023a00fd26a8208d5bb"
   },
   "outputs": [
    {
     "data": {
      "image/png": "[encoded data removed]",
      "text/plain": [
       "<matplotlib.figure.Figure at 0x1885a668>"
      ]
     },
     "metadata": {},
     "output_type": "display_data"
    }
   ],
   "source": [
    "plot_counts(df, x = 'class_of_admission', figsize = (16, 10), boundary = 10, ascending = False, \n",
    "            rotation = 90, fontsize = 15, palette = sns.color_palette('pastel', n_colors = 10), style = 'seaborn-whitegrid',\n",
    "           xlabel = 'Citizenship', ylabel = 'Count', title = 'Total Number of Visa Applications by Class of Admission' )"
   ]
  },
  {
   "cell_type": "markdown",
   "metadata": {
    "_cell_guid": "c306571b-7e95-49f9-9a7b-e6eb7ddc6c79",
    "_uuid": "2548a866584ca0fbd83ee096c7b50602c43967a1"
   },
   "source": [
    "The vast majority of petitioners were applying for the H-1B Visa, which according to the Wikipedia, allows U.S. employers to employ foreign workers in specialty occupations. If a foreign worker in H-1B status quits or is dismissed from the sponsoring employer, the worker must either apply for and be granted a change of status, find another employer (subject to application for adjustment of status and/or change of visa), or leave the United States. \n",
    "\n",
    "\n",
    "Finally, let's check the number and kind of application types. Unfortunately, our data consists only of 126 848 non-missing values for this attribute, but this should give us a general overview."
   ]
  },
  {
   "cell_type": "code",
   "execution_count": 25,
   "metadata": {
    "_cell_guid": "1887dd8f-2631-4c3f-bf58-a61a6c11c4e0",
    "_uuid": "af267987a55efc1bde176f7ea34ce0a884704ec3"
   },
   "outputs": [
    {
     "data": {
      "image/png": "[encoded data removed]",
      "text/plain": [
       "<matplotlib.figure.Figure at 0x18890240>"
      ]
     },
     "metadata": {},
     "output_type": "display_data"
    }
   ],
   "source": [
    "plot_counts(df, x = 'application_type', figsize = (15, 8), fontsize = 15, palette = sns.color_palette('Set2_r', n_colors = 3),\n",
    "            style = 'seaborn-whitegrid', xlabel = 'Application Type', ylabel = 'Count', title = 'Total Number of Visa Applications by Form of Application' )"
   ]
  },
  {
   "cell_type": "markdown",
   "metadata": {
    "_cell_guid": "94e5a222-8d4f-4af7-a98c-7ff982ea358a",
    "_uuid": "deb3611ac6d57fc4b9885aaa25138d2b79ea16cd"
   },
   "source": [
    "Since PERM (Program Electronic Review Management) is an online solution for petitioners it's clearly visible that applying online is more favorable for most of applying specialists than any other form. The last plotting activity will be displaying the applicants education level and remuneration."
   ]
  },
  {
   "cell_type": "code",
   "execution_count": 26,
   "metadata": {
    "_cell_guid": "45bd1489-4295-48b5-b372-63176eebe6d5",
    "_uuid": "00786db794fe9b55d43102f20b60a172ec027be4"
   },
   "outputs": [
    {
     "data": {
      "image/png": "[encoded data removed]",
      "text/plain": [
       "<matplotlib.figure.Figure at 0x1867cc88>"
      ]
     },
     "metadata": {},
     "output_type": "display_data"
    }
   ],
   "source": [
    "plot_counts(df, x = 'foreign_worker_info_education', figsize = (16, 10), ascending = False, fontsize = 15,\n",
    "            palette = sns.color_palette('Set3_r', n_colors = 7), style = 'seaborn-whitegrid',\n",
    "            xlabel = 'Education Level', ylabel = 'Count', title = 'Total Number of Visa Applications by Education Level')"
   ]
  },
  {
   "cell_type": "markdown",
   "metadata": {
    "_cell_guid": "6484afd9-3fe3-495f-8ff7-aaf1c78dc485",
    "_uuid": "e1d876f709a63c4a5b98e98776cc3d31c5df2c3f"
   },
   "source": [
    "As we can see, the vast majority of petitioners are university graduates who obtained either Master or Bachelor title. Before plotting the remuneration, we will remove commas from the values so that they are left only with decimal places denoted. Also, since some of the wages are hourly, weekly, bi-weekly and monthly values, we have to calculate the yearly equivalents for them. According to the https://www.timeanddate.com/date/workdays.html website, the average number of working days in USA is 250. We will use this information in our calculations."
   ]
  },
  {
   "cell_type": "code",
   "execution_count": 27,
   "metadata": {},
   "outputs": [
    {
     "data": {
      "text/plain": [
       "Year         328256\n",
       "yr            18450\n",
       "Hour           6961\n",
       "hr              677\n",
       "Week            175\n",
       "Month           114\n",
       "Bi-Weekly        22\n",
       "wk               20\n",
       "mth               7\n",
       "bi                5\n",
       "Name: pw_unit_of_pay_9089, dtype: int64"
      ]
     },
     "execution_count": 27,
     "metadata": {},
     "output_type": "execute_result"
    }
   ],
   "source": [
    "df['pw_unit_of_pay_9089'].value_counts()"
   ]
  },
  {
   "cell_type": "code",
   "execution_count": 28,
   "metadata": {
    "_cell_guid": "8cadf005-466b-4d1d-bb11-0388bd0c92e0",
    "_uuid": "4fa67723698fce63cbf8c874bdf6e2b8f5ea0ffd"
   },
   "outputs": [],
   "source": [
    "# Replacing commas with whitespace character\n",
    "df['pw_amount_9089'] = df['pw_amount_9089'].str.replace(\",\",\"\") \n",
    "\n",
    "# Changing format from string to float\n",
    "df['pw_amount_9089'] = df.pw_amount_9089.astype(float)\n",
    "\n",
    "for unit in df.pw_unit_of_pay_9089.unique():\n",
    "    if unit == \"hr\" or unit == \"Hour\":\n",
    "        df.loc[df['pw_unit_of_pay_9089'] == unit, 'pw_amount_9089'] = df['pw_amount_9089'].apply(lambda x: float(x) * 8 * 250)\n",
    "        df.loc[df['pw_unit_of_pay_9089'] == unit, 'pw_unit_of_pay_9089'] = df['pw_unit_of_pay_9089'].replace(to_replace = unit, value = \"Year\") \n",
    "    elif unit == \"wk\" or unit == \"Week\":\n",
    "        df.loc[df['pw_unit_of_pay_9089'] == unit, 'pw_amount_9089'] = df['pw_amount_9089'].apply(lambda x: float(x) * 50)\n",
    "        df.loc[df['pw_unit_of_pay_9089'] == unit, 'pw_unit_of_pay_9089'] = df['pw_unit_of_pay_9089'].replace(to_replace = unit, value = \"Year\")\n",
    "    elif unit == \"mth\" or unit == \"Month\":\n",
    "        df.loc[df['pw_unit_of_pay_9089'] == unit, 'pw_amount_9089'] = df['pw_amount_9089'].apply(lambda x: float(x) * 12)\n",
    "        df.loc[df['pw_unit_of_pay_9089'] == unit, 'pw_unit_of_pay_9089'] = df['pw_unit_of_pay_9089'].replace(to_replace = unit, value = \"Year\")\n",
    "    elif unit == \"bi\" or unit == \"Bi-Weekly\":  \n",
    "        df.loc[df['pw_unit_of_pay_9089'] == unit, 'pw_amount_9089'] = df['pw_amount_9089'].apply(lambda x: float(x) * 25)\n",
    "        df.loc[df['pw_unit_of_pay_9089'] == unit, 'pw_unit_of_pay_9089'] = df['pw_unit_of_pay_9089'].replace(to_replace = unit, value = \"Year\")\n",
    "    elif unit ==\"yr\":\n",
    "         df.loc[df['pw_unit_of_pay_9089'] == unit ,'pw_unit_of_pay_9089'] = df['pw_unit_of_pay_9089'].replace(to_replace = unit, value = \"Year\")\n",
    "    else:\n",
    "        continue\n",
    "        \n",
    "# Filling missing values with median \n",
    "df['pw_amount_9089']= df['pw_amount_9089'].fillna((df['pw_amount_9089'].median()))"
   ]
  },
  {
   "cell_type": "code",
   "execution_count": 29,
   "metadata": {
    "_cell_guid": "cbf4e996-1f51-4425-b6df-4b9de6f770a2",
    "_uuid": "0b2f9923723647e67ce16310b30316ec8edc5bb2"
   },
   "outputs": [
    {
     "name": "stdout",
     "output_type": "stream",
     "text": [
      "count      356168.00\n",
      "mean       469624.51\n",
      "std       7679620.28\n",
      "min             7.50\n",
      "25%         67808.00\n",
      "50%         86278.00\n",
      "75%        104790.00\n",
      "max     495748000.00\n",
      "Name: pw_amount_9089, dtype: float64\n"
     ]
    }
   ],
   "source": [
    "# Since running \"describe\" method on \"pw_amount_9089\" column returned exponential values, I decided to convert them to floats so that they are easier to understand\n",
    "with pd.option_context('float_format', '{:.2f}'.format): print(df.pw_amount_9089.describe())"
   ]
  },
  {
   "cell_type": "code",
   "execution_count": 30,
   "metadata": {},
   "outputs": [
    {
     "data": {
      "text/plain": [
       "0-30k        19810\n",
       "30-60k       47493\n",
       "60-90k      133050\n",
       "90-120k     112631\n",
       "120-150k     30532\n",
       "150-180k      7094\n",
       "180-210k      3801\n",
       "210-240k       604\n",
       "240-270k        29\n",
       "270k+         1123\n",
       "Name: remuneration, dtype: int64"
      ]
     },
     "execution_count": 30,
     "metadata": {},
     "output_type": "execute_result"
    }
   ],
   "source": [
    "# Dividing our continuous income values into some categories to facilitate their visualization\n",
    "df['remuneration'] = pd.cut(df['pw_amount_9089'], [0, 30000, 60000,90000,120000,150000,180000,210000,240000,270000,495748000], right=False, labels=[\"0-30k\", \"30-60k\",\"60-90k\",\"90-120k\",\"120-150k\",\"150-180k\",\"180-210k\",\"210-240k\",\"240-270k\",\"270k+\"])\n",
    "df.drop('pw_amount_9089', axis = 1, inplace = True)\n",
    "salary = df['remuneration'].value_counts()\n",
    "salary.iloc[np.argsort(salary.index)]"
   ]
  },
  {
   "cell_type": "code",
   "execution_count": 31,
   "metadata": {
    "_cell_guid": "93efe5d2-bc16-4e71-95ae-2675a2959f99",
    "_uuid": "a2305607abd610ea226db2d721b4f62322f57ac0"
   },
   "outputs": [
    {
     "data": {
      "image/png": "[encoded data removed]",
      "text/plain": [
       "<matplotlib.figure.Figure at 0x18524e10>"
      ]
     },
     "metadata": {},
     "output_type": "display_data"
    }
   ],
   "source": [
    "plot_counts(df, x = 'remuneration', figsize = (16, 10), ascending = False, fontsize = 15,\n",
    "            palette = sns.color_palette('Purples_r', n_colors = 10), style = 'seaborn-whitegrid',\n",
    "            xlabel = 'Remuneration', ylabel = 'Count', title = 'Total Number of Visa Applications by Yearly Remuneration')"
   ]
  },
  {
   "cell_type": "markdown",
   "metadata": {
    "_cell_guid": "12429beb-b034-4f96-b52c-d04a1038221f",
    "_uuid": "1e67321477054465050ca3c82f50af7abc94aa1f"
   },
   "source": [
    "As we can see, over 65% of the applicants earn between 60 and 120 thousand dollars yearly."
   ]
  },
  {
   "cell_type": "markdown",
   "metadata": {
    "_cell_guid": "036b8625-221b-4dce-9983-4bbdea7e31f8",
    "_uuid": "d318da0a2d46c45e0cb51a8b9b18183eec7dbb04"
   },
   "source": [
    "# Feature engineering, selection and data cleansing\n",
    "\n",
    "___________________________--"
   ]
  },
  {
   "cell_type": "code",
   "execution_count": 32,
   "metadata": {
    "_cell_guid": "dad63284-ff68-448e-923b-be4d0b25613b",
    "_uuid": "916d73fba9d829fa476d4c5df2156bf83812cff4"
   },
   "outputs": [
    {
     "name": "stdout",
     "output_type": "stream",
     "text": [
      "<class 'pandas.core.frame.DataFrame'>\n",
      "Int64Index: 356168 entries, 0 to 374353\n",
      "Data columns (total 19 columns):\n",
      "case_status               356168 non-null object\n",
      "class_of_admission        335083 non-null object\n",
      "country_of_citizenship    336896 non-null object\n",
      "decision_date             356168 non-null datetime64[ns]\n",
      "employer_address_1        356131 non-null object\n",
      "employer_city             356158 non-null object\n",
      "employer_name             356160 non-null object\n",
      "employer_postal_code      356135 non-null object\n",
      "employer_state            356131 non-null object\n",
      "job_info_work_city        356073 non-null object\n",
      "job_info_work_state       356072 non-null object\n",
      "pw_level_9089             329583 non-null object\n",
      "pw_soc_code               355778 non-null object\n",
      "pw_soc_title              353847 non-null object\n",
      "pw_source_name_9089       354081 non-null object\n",
      "pw_unit_of_pay_9089       354687 non-null object\n",
      "casenumber                356168 non-null object\n",
      "year                      356168 non-null int64\n",
      "remuneration              356167 non-null category\n",
      "dtypes: category(1), datetime64[ns](1), int64(1), object(16)\n",
      "memory usage: 62.0+ MB\n"
     ]
    }
   ],
   "source": [
    "# Leaving columns which have more than 75% non-missing observations\n",
    "df = df.loc[:,df.count() >= 267000]\n",
    "df.info()"
   ]
  },
  {
   "cell_type": "markdown",
   "metadata": {
    "_cell_guid": "dc201155-a96d-4742-a57c-47a686f14595",
    "_uuid": "01efd899916da67cdc857038267e81b8676f4edf"
   },
   "source": [
    "Since our dataset consists of 18 features which have less than 25% of missing values , we will choose some of them for further analysis and perform imputations but before doing so, let's use add_datepart function from helper module which will create new time series related features from 'decision_date' variable."
   ]
  },
  {
   "cell_type": "code",
   "execution_count": 33,
   "metadata": {},
   "outputs": [],
   "source": [
    "# Importing 'add_datepart' function from helper module which will create new time series related features from 'decision_date' variable\n",
    "from helper import add_datepart\n",
    "\n",
    "add_datepart(df, 'decision_date')"
   ]
  },
  {
   "cell_type": "code",
   "execution_count": 34,
   "metadata": {},
   "outputs": [
    {
     "data": {
      "text/html": [
       "<div>\n",
       "<style scoped>\n",
       "    .dataframe tbody tr th:only-of-type {\n",
       "        vertical-align: middle;\n",
       "    }\n",
       "\n",
       "    .dataframe tbody tr th {\n",
       "        vertical-align: top;\n",
       "    }\n",
       "\n",
       "    .dataframe thead th {\n",
       "        text-align: right;\n",
       "    }\n",
       "</style>\n",
       "<table border=\"1\" class=\"dataframe\">\n",
       "  <thead>\n",
       "    <tr style=\"text-align: right;\">\n",
       "      <th></th>\n",
       "      <th>case_status</th>\n",
       "      <th>class_of_admission</th>\n",
       "      <th>country_of_citizenship</th>\n",
       "      <th>employer_address_1</th>\n",
       "      <th>employer_city</th>\n",
       "      <th>employer_name</th>\n",
       "      <th>employer_postal_code</th>\n",
       "      <th>employer_state</th>\n",
       "      <th>job_info_work_city</th>\n",
       "      <th>job_info_work_state</th>\n",
       "      <th>pw_level_9089</th>\n",
       "      <th>pw_soc_code</th>\n",
       "      <th>pw_soc_title</th>\n",
       "      <th>pw_source_name_9089</th>\n",
       "      <th>pw_unit_of_pay_9089</th>\n",
       "      <th>casenumber</th>\n",
       "      <th>year</th>\n",
       "      <th>remuneration</th>\n",
       "      <th>decision_Year</th>\n",
       "      <th>decision_Month</th>\n",
       "      <th>decision_Week</th>\n",
       "      <th>decision_Day</th>\n",
       "      <th>decision_Dayofweek</th>\n",
       "      <th>decision_Dayofyear</th>\n",
       "      <th>decision_Is_month_end</th>\n",
       "      <th>decision_Is_month_start</th>\n",
       "      <th>decision_Is_quarter_end</th>\n",
       "      <th>decision_Is_quarter_start</th>\n",
       "      <th>decision_Is_year_end</th>\n",
       "      <th>decision_Is_year_start</th>\n",
       "      <th>decision_Elapsed</th>\n",
       "    </tr>\n",
       "  </thead>\n",
       "  <tbody>\n",
       "    <tr>\n",
       "      <th>0</th>\n",
       "      <td>Certified</td>\n",
       "      <td>J-1</td>\n",
       "      <td>NaN</td>\n",
       "      <td>24 WEST 25 STREET</td>\n",
       "      <td>NEW YORK</td>\n",
       "      <td>NETSOFT USA INC.</td>\n",
       "      <td>10010.0</td>\n",
       "      <td>NY</td>\n",
       "      <td>New York</td>\n",
       "      <td>NY</td>\n",
       "      <td>Level II</td>\n",
       "      <td>15-1031.00</td>\n",
       "      <td>Computer Software Engineers, Applications</td>\n",
       "      <td>OES</td>\n",
       "      <td>Year</td>\n",
       "      <td>A-07323-97014</td>\n",
       "      <td>2012</td>\n",
       "      <td>60-90k</td>\n",
       "      <td>2012</td>\n",
       "      <td>2</td>\n",
       "      <td>5</td>\n",
       "      <td>1</td>\n",
       "      <td>2</td>\n",
       "      <td>32</td>\n",
       "      <td>False</td>\n",
       "      <td>True</td>\n",
       "      <td>False</td>\n",
       "      <td>False</td>\n",
       "      <td>False</td>\n",
       "      <td>False</td>\n",
       "      <td>1328054400</td>\n",
       "    </tr>\n",
       "    <tr>\n",
       "      <th>1</th>\n",
       "      <td>Denied</td>\n",
       "      <td>B-2</td>\n",
       "      <td>NaN</td>\n",
       "      <td>200 BROAD STREET</td>\n",
       "      <td>CARLSTADT</td>\n",
       "      <td>PINNACLE ENVIRONEMNTAL CORP</td>\n",
       "      <td>7072.0</td>\n",
       "      <td>NY</td>\n",
       "      <td>New York</td>\n",
       "      <td>NY</td>\n",
       "      <td>Level I</td>\n",
       "      <td>47-4041.00</td>\n",
       "      <td>Hazardous Materials Removal Workers</td>\n",
       "      <td>OES</td>\n",
       "      <td>Year</td>\n",
       "      <td>A-07332-99439</td>\n",
       "      <td>2011</td>\n",
       "      <td>30-60k</td>\n",
       "      <td>2011</td>\n",
       "      <td>12</td>\n",
       "      <td>51</td>\n",
       "      <td>21</td>\n",
       "      <td>2</td>\n",
       "      <td>355</td>\n",
       "      <td>False</td>\n",
       "      <td>False</td>\n",
       "      <td>False</td>\n",
       "      <td>False</td>\n",
       "      <td>False</td>\n",
       "      <td>False</td>\n",
       "      <td>1324425600</td>\n",
       "    </tr>\n",
       "    <tr>\n",
       "      <th>2</th>\n",
       "      <td>Certified</td>\n",
       "      <td>H-1B</td>\n",
       "      <td>NaN</td>\n",
       "      <td>1054 TECHNOLOGY PARK DRIVE</td>\n",
       "      <td>GLEN ALLEN</td>\n",
       "      <td>SCHNABEL ENGINEERING, INC.</td>\n",
       "      <td>23059.0</td>\n",
       "      <td>VA</td>\n",
       "      <td>Lutherville</td>\n",
       "      <td>MD</td>\n",
       "      <td>Level I</td>\n",
       "      <td>17-2051.00</td>\n",
       "      <td>Civil Engineers</td>\n",
       "      <td>OES</td>\n",
       "      <td>Year</td>\n",
       "      <td>A-07333-99643</td>\n",
       "      <td>2011</td>\n",
       "      <td>30-60k</td>\n",
       "      <td>2011</td>\n",
       "      <td>12</td>\n",
       "      <td>48</td>\n",
       "      <td>1</td>\n",
       "      <td>3</td>\n",
       "      <td>335</td>\n",
       "      <td>False</td>\n",
       "      <td>True</td>\n",
       "      <td>False</td>\n",
       "      <td>False</td>\n",
       "      <td>False</td>\n",
       "      <td>False</td>\n",
       "      <td>1322697600</td>\n",
       "    </tr>\n",
       "    <tr>\n",
       "      <th>3</th>\n",
       "      <td>Certified</td>\n",
       "      <td>B-2</td>\n",
       "      <td>NaN</td>\n",
       "      <td>33-17 PRINCE ST. 2ND FL</td>\n",
       "      <td>FLUSHING</td>\n",
       "      <td>EBENEZER MISSION CHURCH</td>\n",
       "      <td>11354.0</td>\n",
       "      <td>NY</td>\n",
       "      <td>Flushing</td>\n",
       "      <td>NY</td>\n",
       "      <td>Level II</td>\n",
       "      <td>43-4071.00</td>\n",
       "      <td>File Clerks</td>\n",
       "      <td>OES</td>\n",
       "      <td>Year</td>\n",
       "      <td>A-07339-01930</td>\n",
       "      <td>2011</td>\n",
       "      <td>0-30k</td>\n",
       "      <td>2011</td>\n",
       "      <td>12</td>\n",
       "      <td>48</td>\n",
       "      <td>1</td>\n",
       "      <td>3</td>\n",
       "      <td>335</td>\n",
       "      <td>False</td>\n",
       "      <td>True</td>\n",
       "      <td>False</td>\n",
       "      <td>False</td>\n",
       "      <td>False</td>\n",
       "      <td>False</td>\n",
       "      <td>1322697600</td>\n",
       "    </tr>\n",
       "    <tr>\n",
       "      <th>4</th>\n",
       "      <td>Certified</td>\n",
       "      <td>L-1</td>\n",
       "      <td>NaN</td>\n",
       "      <td>1373 BROADWAY</td>\n",
       "      <td>ALBANY</td>\n",
       "      <td>ALBANY INTERNATIONAL CORP.</td>\n",
       "      <td>12204.0</td>\n",
       "      <td>NY</td>\n",
       "      <td>Albany</td>\n",
       "      <td>NY</td>\n",
       "      <td>Level IV</td>\n",
       "      <td>41-9031.00</td>\n",
       "      <td>Sales Engineers</td>\n",
       "      <td>OES</td>\n",
       "      <td>Year</td>\n",
       "      <td>A-07345-03565</td>\n",
       "      <td>2012</td>\n",
       "      <td>90-120k</td>\n",
       "      <td>2012</td>\n",
       "      <td>1</td>\n",
       "      <td>4</td>\n",
       "      <td>26</td>\n",
       "      <td>3</td>\n",
       "      <td>26</td>\n",
       "      <td>False</td>\n",
       "      <td>False</td>\n",
       "      <td>False</td>\n",
       "      <td>False</td>\n",
       "      <td>False</td>\n",
       "      <td>False</td>\n",
       "      <td>1327536000</td>\n",
       "    </tr>\n",
       "  </tbody>\n",
       "</table>\n",
       "</div>"
      ],
      "text/plain": [
       "  case_status class_of_admission country_of_citizenship  \\\n",
       "0   Certified                J-1                    NaN   \n",
       "1      Denied                B-2                    NaN   \n",
       "2   Certified               H-1B                    NaN   \n",
       "3   Certified                B-2                    NaN   \n",
       "4   Certified                L-1                    NaN   \n",
       "\n",
       "           employer_address_1 employer_city                employer_name  \\\n",
       "0           24 WEST 25 STREET      NEW YORK             NETSOFT USA INC.   \n",
       "1            200 BROAD STREET     CARLSTADT  PINNACLE ENVIRONEMNTAL CORP   \n",
       "2  1054 TECHNOLOGY PARK DRIVE    GLEN ALLEN   SCHNABEL ENGINEERING, INC.   \n",
       "3     33-17 PRINCE ST. 2ND FL      FLUSHING      EBENEZER MISSION CHURCH   \n",
       "4               1373 BROADWAY        ALBANY   ALBANY INTERNATIONAL CORP.   \n",
       "\n",
       "  employer_postal_code employer_state job_info_work_city job_info_work_state  \\\n",
       "0              10010.0             NY           New York                  NY   \n",
       "1               7072.0             NY           New York                  NY   \n",
       "2              23059.0             VA        Lutherville                  MD   \n",
       "3              11354.0             NY           Flushing                  NY   \n",
       "4              12204.0             NY             Albany                  NY   \n",
       "\n",
       "  pw_level_9089 pw_soc_code                               pw_soc_title  \\\n",
       "0      Level II  15-1031.00  Computer Software Engineers, Applications   \n",
       "1       Level I  47-4041.00        Hazardous Materials Removal Workers   \n",
       "2       Level I  17-2051.00                            Civil Engineers   \n",
       "3      Level II  43-4071.00                                File Clerks   \n",
       "4      Level IV  41-9031.00                            Sales Engineers   \n",
       "\n",
       "  pw_source_name_9089 pw_unit_of_pay_9089     casenumber  year remuneration  \\\n",
       "0                 OES                Year  A-07323-97014  2012       60-90k   \n",
       "1                 OES                Year  A-07332-99439  2011       30-60k   \n",
       "2                 OES                Year  A-07333-99643  2011       30-60k   \n",
       "3                 OES                Year  A-07339-01930  2011        0-30k   \n",
       "4                 OES                Year  A-07345-03565  2012      90-120k   \n",
       "\n",
       "   decision_Year  decision_Month  decision_Week  decision_Day  \\\n",
       "0           2012               2              5             1   \n",
       "1           2011              12             51            21   \n",
       "2           2011              12             48             1   \n",
       "3           2011              12             48             1   \n",
       "4           2012               1              4            26   \n",
       "\n",
       "   decision_Dayofweek  decision_Dayofyear  decision_Is_month_end  \\\n",
       "0                   2                  32                  False   \n",
       "1                   2                 355                  False   \n",
       "2                   3                 335                  False   \n",
       "3                   3                 335                  False   \n",
       "4                   3                  26                  False   \n",
       "\n",
       "   decision_Is_month_start  decision_Is_quarter_end  \\\n",
       "0                     True                    False   \n",
       "1                    False                    False   \n",
       "2                     True                    False   \n",
       "3                     True                    False   \n",
       "4                    False                    False   \n",
       "\n",
       "   decision_Is_quarter_start  decision_Is_year_end  decision_Is_year_start  \\\n",
       "0                      False                 False                   False   \n",
       "1                      False                 False                   False   \n",
       "2                      False                 False                   False   \n",
       "3                      False                 False                   False   \n",
       "4                      False                 False                   False   \n",
       "\n",
       "   decision_Elapsed  \n",
       "0        1328054400  \n",
       "1        1324425600  \n",
       "2        1322697600  \n",
       "3        1322697600  \n",
       "4        1327536000  "
      ]
     },
     "execution_count": 34,
     "metadata": {},
     "output_type": "execute_result"
    }
   ],
   "source": [
    "df.head()"
   ]
  },
  {
   "cell_type": "code",
   "execution_count": 35,
   "metadata": {},
   "outputs": [
    {
     "name": "stdout",
     "output_type": "stream",
     "text": [
      "<class 'pandas.core.frame.DataFrame'>\n",
      "Int64Index: 356168 entries, 0 to 374353\n",
      "Data columns (total 31 columns):\n",
      "case_status                  356168 non-null object\n",
      "class_of_admission           335083 non-null object\n",
      "country_of_citizenship       336896 non-null object\n",
      "employer_address_1           356131 non-null object\n",
      "employer_city                356158 non-null object\n",
      "employer_name                356160 non-null object\n",
      "employer_postal_code         356135 non-null object\n",
      "employer_state               356131 non-null object\n",
      "job_info_work_city           356073 non-null object\n",
      "job_info_work_state          356072 non-null object\n",
      "pw_level_9089                329583 non-null object\n",
      "pw_soc_code                  355778 non-null object\n",
      "pw_soc_title                 353847 non-null object\n",
      "pw_source_name_9089          354081 non-null object\n",
      "pw_unit_of_pay_9089          354687 non-null object\n",
      "casenumber                   356168 non-null object\n",
      "year                         356168 non-null int64\n",
      "remuneration                 356167 non-null category\n",
      "decision_Year                356168 non-null int64\n",
      "decision_Month               356168 non-null int64\n",
      "decision_Week                356168 non-null int64\n",
      "decision_Day                 356168 non-null int64\n",
      "decision_Dayofweek           356168 non-null int64\n",
      "decision_Dayofyear           356168 non-null int64\n",
      "decision_Is_month_end        356168 non-null bool\n",
      "decision_Is_month_start      356168 non-null bool\n",
      "decision_Is_quarter_end      356168 non-null bool\n",
      "decision_Is_quarter_start    356168 non-null bool\n",
      "decision_Is_year_end         356168 non-null bool\n",
      "decision_Is_year_start       356168 non-null bool\n",
      "decision_Elapsed             356168 non-null int64\n",
      "dtypes: bool(6), category(1), int64(8), object(16)\n",
      "memory usage: 80.3+ MB\n"
     ]
    }
   ],
   "source": [
    "df.info()"
   ]
  },
  {
   "cell_type": "code",
   "execution_count": 36,
   "metadata": {
    "_cell_guid": "e6edc1f8-553c-4a06-b3e0-2dad8720efda",
    "_uuid": "105d887a8baf0180274f585ccce173e54a00c57a"
   },
   "outputs": [],
   "source": [
    "# Indices of selected features\n",
    "chosen_attrs = [0,1,2,4,5,7,10,11,13,17,18,19,20,21,22,23,24,25,26,27,28,29]\n",
    "df = df.iloc[:,chosen_attrs]"
   ]
  },
  {
   "cell_type": "code",
   "execution_count": 37,
   "metadata": {
    "_cell_guid": "d7b5d579-6507-4110-953c-18539e39f1a2",
    "_uuid": "d34ee5d1960acf930efd6814067dc26c2b14b2f3"
   },
   "outputs": [],
   "source": [
    "# Assigning Labels to Case Status\n",
    "df.loc[df.case_status == 'Certified', 'case_status'] = 1\n",
    "df.loc[df.case_status == 'Denied', 'case_status'] = 0\n",
    "\n",
    "# Mapping from state name to abbreviation since data consists of both full state names and their abbreviations\n",
    "state_abbrevs = {\n",
    "    'Alabama': 'AL',\n",
    "    'Alaska': 'AK',\n",
    "    'Arizona': 'AZ',\n",
    "    'Arkansas': 'AR',\n",
    "    'California': 'CA',\n",
    "    'Colorado': 'CO',\n",
    "    'Connecticut': 'CT',\n",
    "    'Delaware': 'DE',\n",
    "    'Florida': 'FL',\n",
    "    'Georgia': 'GA',\n",
    "    'Hawaii': 'HI',\n",
    "    'Idaho': 'ID',\n",
    "    'Illinois': 'IL',\n",
    "    'Indiana': 'IN',\n",
    "    'Iowa': 'IA',\n",
    "    'Kansas': 'KS',\n",
    "    'Kentucky': 'KY',\n",
    "    'Louisiana': 'LA',\n",
    "    'Maine': 'ME',\n",
    "    'Maryland': 'MD',\n",
    "    'Massachusetts': 'MA',\n",
    "    'Michigan': 'MI',\n",
    "    'Minnesota': 'MN',\n",
    "    'Mississippi': 'MS',\n",
    "    'Missouri': 'MO',\n",
    "    'Montana': 'MT',\n",
    "    'Nebraska': 'NE',\n",
    "    'Nevada': 'NV',\n",
    "    'New Hampshire': 'NH',\n",
    "    'New Jersey': 'NJ',\n",
    "    'New Mexico': 'NM',\n",
    "    'New York': 'NY',\n",
    "    'North Carolina': 'NC',\n",
    "    'North Dakota': 'ND',\n",
    "    'Ohio': 'OH',\n",
    "    'Oklahoma': 'OK',\n",
    "    'Oregon': 'OR',\n",
    "    'Pennsylvania': 'PA',\n",
    "    'Rhode Island': 'RI',\n",
    "    'South Carolina': 'SC',\n",
    "    'South Dakota': 'SD',\n",
    "    'Tennessee': 'TN',\n",
    "    'Texas': 'TX',\n",
    "    'Utah': 'UT',\n",
    "    'Vermont': 'VT',\n",
    "    'Virginia': 'VA',\n",
    "    'Washington': 'WA',\n",
    "    'West Virginia': 'WV',\n",
    "    'Wisconsin': 'WI',\n",
    "    'Wyoming': 'WY',\n",
    "    'Northern Mariana Islands':'MP', \n",
    "    'Palau': 'PW', \n",
    "    'Puerto Rico': 'PR', \n",
    "    'Virgin Islands': 'VI', \n",
    "    'District of Columbia': 'DC'\n",
    "}\n",
    "\n",
    "# Capitalizing Keys\n",
    "us_state_abbrev = {k.upper(): v for k, v in state_abbrevs.items()}\n",
    "df['employer_state'].replace(us_state_abbrev, inplace=True)"
   ]
  },
  {
   "cell_type": "code",
   "execution_count": 38,
   "metadata": {
    "_cell_guid": "5ca45544-531d-41bc-828e-8db2c5d7309b",
    "_uuid": "29471b2cfa236a7f5ed5b1aad740c421f4772f0c"
   },
   "outputs": [],
   "source": [
    "df['pw_soc_code'] = df['pw_soc_code'].str.replace('[.|,]','')\n",
    "df['pw_soc_code'] = df['pw_soc_code'].astype(str).str[0:6]\n",
    "\n",
    "from helper import obj_to_cat, fill_missing_cats\n",
    "# Converting features of 'object' data type into categories\n",
    "obj_to_cat(df)\n",
    "\n",
    "# Replacing missing values with mode\n",
    "fill_missing_cats(df)\n",
    "\n",
    "# Converting boolean features into categories\n",
    "for column in df.columns[16:]:\n",
    "    df[column]= df[column].astype('category')"
   ]
  },
  {
   "cell_type": "code",
   "execution_count": 39,
   "metadata": {
    "_cell_guid": "ba4f5e4f-007e-4c1f-b434-266ac40d0b52",
    "_uuid": "41255e6b18fb2d3a2ac982572f03820decd95562"
   },
   "outputs": [
    {
     "name": "stdout",
     "output_type": "stream",
     "text": [
      "<class 'pandas.core.frame.DataFrame'>\n",
      "Int64Index: 356168 entries, 0 to 374353\n",
      "Data columns (total 22 columns):\n",
      "case_status                  356168 non-null int64\n",
      "class_of_admission           356168 non-null category\n",
      "country_of_citizenship       356168 non-null category\n",
      "employer_city                356168 non-null category\n",
      "employer_name                356168 non-null category\n",
      "employer_state               356168 non-null category\n",
      "pw_level_9089                356168 non-null category\n",
      "pw_soc_code                  356168 non-null category\n",
      "pw_source_name_9089          356168 non-null category\n",
      "remuneration                 356168 non-null category\n",
      "decision_Year                356168 non-null int64\n",
      "decision_Month               356168 non-null int64\n",
      "decision_Week                356168 non-null int64\n",
      "decision_Day                 356168 non-null int64\n",
      "decision_Dayofweek           356168 non-null int64\n",
      "decision_Dayofyear           356168 non-null int64\n",
      "decision_Is_month_end        356168 non-null category\n",
      "decision_Is_month_start      356168 non-null category\n",
      "decision_Is_quarter_end      356168 non-null category\n",
      "decision_Is_quarter_start    356168 non-null category\n",
      "decision_Is_year_end         356168 non-null category\n",
      "decision_Is_year_start       356168 non-null category\n",
      "dtypes: category(15), int64(7)\n",
      "memory usage: 42.2 MB\n"
     ]
    }
   ],
   "source": [
    "df.info()"
   ]
  },
  {
   "cell_type": "code",
   "execution_count": 40,
   "metadata": {},
   "outputs": [
    {
     "data": {
      "text/html": [
       "<div>\n",
       "<style scoped>\n",
       "    .dataframe tbody tr th:only-of-type {\n",
       "        vertical-align: middle;\n",
       "    }\n",
       "\n",
       "    .dataframe tbody tr th {\n",
       "        vertical-align: top;\n",
       "    }\n",
       "\n",
       "    .dataframe thead th {\n",
       "        text-align: right;\n",
       "    }\n",
       "</style>\n",
       "<table border=\"1\" class=\"dataframe\">\n",
       "  <thead>\n",
       "    <tr style=\"text-align: right;\">\n",
       "      <th></th>\n",
       "      <th>case_status</th>\n",
       "      <th>class_of_admission</th>\n",
       "      <th>country_of_citizenship</th>\n",
       "      <th>employer_city</th>\n",
       "      <th>employer_name</th>\n",
       "      <th>employer_state</th>\n",
       "      <th>pw_level_9089</th>\n",
       "      <th>pw_soc_code</th>\n",
       "      <th>pw_source_name_9089</th>\n",
       "      <th>remuneration</th>\n",
       "      <th>decision_Year</th>\n",
       "      <th>decision_Month</th>\n",
       "      <th>decision_Week</th>\n",
       "      <th>decision_Day</th>\n",
       "      <th>decision_Dayofweek</th>\n",
       "      <th>decision_Dayofyear</th>\n",
       "      <th>decision_Is_month_end</th>\n",
       "      <th>decision_Is_month_start</th>\n",
       "      <th>decision_Is_quarter_end</th>\n",
       "      <th>decision_Is_quarter_start</th>\n",
       "      <th>decision_Is_year_end</th>\n",
       "      <th>decision_Is_year_start</th>\n",
       "    </tr>\n",
       "  </thead>\n",
       "  <tbody>\n",
       "    <tr>\n",
       "      <th>0</th>\n",
       "      <td>1</td>\n",
       "      <td>J-1</td>\n",
       "      <td>INDIA</td>\n",
       "      <td>NEW YORK</td>\n",
       "      <td>NETSOFT USA INC.</td>\n",
       "      <td>NY</td>\n",
       "      <td>Level II</td>\n",
       "      <td>15-103</td>\n",
       "      <td>OES</td>\n",
       "      <td>60-90k</td>\n",
       "      <td>2012</td>\n",
       "      <td>2</td>\n",
       "      <td>5</td>\n",
       "      <td>1</td>\n",
       "      <td>2</td>\n",
       "      <td>32</td>\n",
       "      <td>False</td>\n",
       "      <td>True</td>\n",
       "      <td>False</td>\n",
       "      <td>False</td>\n",
       "      <td>False</td>\n",
       "      <td>False</td>\n",
       "    </tr>\n",
       "    <tr>\n",
       "      <th>1</th>\n",
       "      <td>0</td>\n",
       "      <td>B-2</td>\n",
       "      <td>INDIA</td>\n",
       "      <td>CARLSTADT</td>\n",
       "      <td>PINNACLE ENVIRONEMNTAL CORP</td>\n",
       "      <td>NY</td>\n",
       "      <td>Level I</td>\n",
       "      <td>47-404</td>\n",
       "      <td>OES</td>\n",
       "      <td>30-60k</td>\n",
       "      <td>2011</td>\n",
       "      <td>12</td>\n",
       "      <td>51</td>\n",
       "      <td>21</td>\n",
       "      <td>2</td>\n",
       "      <td>355</td>\n",
       "      <td>False</td>\n",
       "      <td>False</td>\n",
       "      <td>False</td>\n",
       "      <td>False</td>\n",
       "      <td>False</td>\n",
       "      <td>False</td>\n",
       "    </tr>\n",
       "    <tr>\n",
       "      <th>2</th>\n",
       "      <td>1</td>\n",
       "      <td>H-1B</td>\n",
       "      <td>INDIA</td>\n",
       "      <td>GLEN ALLEN</td>\n",
       "      <td>SCHNABEL ENGINEERING, INC.</td>\n",
       "      <td>VA</td>\n",
       "      <td>Level I</td>\n",
       "      <td>17-205</td>\n",
       "      <td>OES</td>\n",
       "      <td>30-60k</td>\n",
       "      <td>2011</td>\n",
       "      <td>12</td>\n",
       "      <td>48</td>\n",
       "      <td>1</td>\n",
       "      <td>3</td>\n",
       "      <td>335</td>\n",
       "      <td>False</td>\n",
       "      <td>True</td>\n",
       "      <td>False</td>\n",
       "      <td>False</td>\n",
       "      <td>False</td>\n",
       "      <td>False</td>\n",
       "    </tr>\n",
       "    <tr>\n",
       "      <th>3</th>\n",
       "      <td>1</td>\n",
       "      <td>B-2</td>\n",
       "      <td>INDIA</td>\n",
       "      <td>FLUSHING</td>\n",
       "      <td>EBENEZER MISSION CHURCH</td>\n",
       "      <td>NY</td>\n",
       "      <td>Level II</td>\n",
       "      <td>43-407</td>\n",
       "      <td>OES</td>\n",
       "      <td>0-30k</td>\n",
       "      <td>2011</td>\n",
       "      <td>12</td>\n",
       "      <td>48</td>\n",
       "      <td>1</td>\n",
       "      <td>3</td>\n",
       "      <td>335</td>\n",
       "      <td>False</td>\n",
       "      <td>True</td>\n",
       "      <td>False</td>\n",
       "      <td>False</td>\n",
       "      <td>False</td>\n",
       "      <td>False</td>\n",
       "    </tr>\n",
       "    <tr>\n",
       "      <th>4</th>\n",
       "      <td>1</td>\n",
       "      <td>L-1</td>\n",
       "      <td>INDIA</td>\n",
       "      <td>ALBANY</td>\n",
       "      <td>ALBANY INTERNATIONAL CORP.</td>\n",
       "      <td>NY</td>\n",
       "      <td>Level IV</td>\n",
       "      <td>41-903</td>\n",
       "      <td>OES</td>\n",
       "      <td>90-120k</td>\n",
       "      <td>2012</td>\n",
       "      <td>1</td>\n",
       "      <td>4</td>\n",
       "      <td>26</td>\n",
       "      <td>3</td>\n",
       "      <td>26</td>\n",
       "      <td>False</td>\n",
       "      <td>False</td>\n",
       "      <td>False</td>\n",
       "      <td>False</td>\n",
       "      <td>False</td>\n",
       "      <td>False</td>\n",
       "    </tr>\n",
       "  </tbody>\n",
       "</table>\n",
       "</div>"
      ],
      "text/plain": [
       "   case_status class_of_admission country_of_citizenship employer_city  \\\n",
       "0            1                J-1                  INDIA      NEW YORK   \n",
       "1            0                B-2                  INDIA     CARLSTADT   \n",
       "2            1               H-1B                  INDIA    GLEN ALLEN   \n",
       "3            1                B-2                  INDIA      FLUSHING   \n",
       "4            1                L-1                  INDIA        ALBANY   \n",
       "\n",
       "                 employer_name employer_state pw_level_9089 pw_soc_code  \\\n",
       "0             NETSOFT USA INC.             NY      Level II      15-103   \n",
       "1  PINNACLE ENVIRONEMNTAL CORP             NY       Level I      47-404   \n",
       "2   SCHNABEL ENGINEERING, INC.             VA       Level I      17-205   \n",
       "3      EBENEZER MISSION CHURCH             NY      Level II      43-407   \n",
       "4   ALBANY INTERNATIONAL CORP.             NY      Level IV      41-903   \n",
       "\n",
       "  pw_source_name_9089 remuneration  decision_Year  decision_Month  \\\n",
       "0                 OES       60-90k           2012               2   \n",
       "1                 OES       30-60k           2011              12   \n",
       "2                 OES       30-60k           2011              12   \n",
       "3                 OES        0-30k           2011              12   \n",
       "4                 OES      90-120k           2012               1   \n",
       "\n",
       "   decision_Week  decision_Day  decision_Dayofweek  decision_Dayofyear  \\\n",
       "0              5             1                   2                  32   \n",
       "1             51            21                   2                 355   \n",
       "2             48             1                   3                 335   \n",
       "3             48             1                   3                 335   \n",
       "4              4            26                   3                  26   \n",
       "\n",
       "  decision_Is_month_end decision_Is_month_start decision_Is_quarter_end  \\\n",
       "0                 False                    True                   False   \n",
       "1                 False                   False                   False   \n",
       "2                 False                    True                   False   \n",
       "3                 False                    True                   False   \n",
       "4                 False                   False                   False   \n",
       "\n",
       "  decision_Is_quarter_start decision_Is_year_end decision_Is_year_start  \n",
       "0                     False                False                  False  \n",
       "1                     False                False                  False  \n",
       "2                     False                False                  False  \n",
       "3                     False                False                  False  \n",
       "4                     False                False                  False  "
      ]
     },
     "execution_count": 40,
     "metadata": {},
     "output_type": "execute_result"
    }
   ],
   "source": [
    "df.head()"
   ]
  },
  {
   "cell_type": "markdown",
   "metadata": {
    "_cell_guid": "4d04fd41-d84b-452b-b81f-92cde4a99242",
    "_uuid": "e22f9b97556c4a66874d251f61b1b52df0f62f28"
   },
   "source": [
    "## Data type conversion"
   ]
  },
  {
   "cell_type": "markdown",
   "metadata": {
    "_cell_guid": "5e1c8566-6a8c-4c0e-abf0-5ba45026e685",
    "_uuid": "4a3816af535da733df82802c75c532edc33cc34b"
   },
   "source": [
    "In this step we're going to turn our feature variables into categories and replace their values with integers which can be passed to Machine Learning models."
   ]
  },
  {
   "cell_type": "code",
   "execution_count": 41,
   "metadata": {
    "_cell_guid": "66202c79-140b-4e1a-8898-b2758b653803",
    "_uuid": "3a4ea1024b5fac7bef5a699f41e7df9b46f44ae2"
   },
   "outputs": [],
   "source": [
    "from helper import get_codes\n",
    "get_codes(df)"
   ]
  },
  {
   "cell_type": "code",
   "execution_count": 42,
   "metadata": {},
   "outputs": [
    {
     "data": {
      "text/html": [
       "<div>\n",
       "<style scoped>\n",
       "    .dataframe tbody tr th:only-of-type {\n",
       "        vertical-align: middle;\n",
       "    }\n",
       "\n",
       "    .dataframe tbody tr th {\n",
       "        vertical-align: top;\n",
       "    }\n",
       "\n",
       "    .dataframe thead th {\n",
       "        text-align: right;\n",
       "    }\n",
       "</style>\n",
       "<table border=\"1\" class=\"dataframe\">\n",
       "  <thead>\n",
       "    <tr style=\"text-align: right;\">\n",
       "      <th></th>\n",
       "      <th>case_status</th>\n",
       "      <th>class_of_admission</th>\n",
       "      <th>country_of_citizenship</th>\n",
       "      <th>employer_city</th>\n",
       "      <th>employer_name</th>\n",
       "      <th>employer_state</th>\n",
       "      <th>pw_level_9089</th>\n",
       "      <th>pw_soc_code</th>\n",
       "      <th>pw_source_name_9089</th>\n",
       "      <th>remuneration</th>\n",
       "      <th>decision_Year</th>\n",
       "      <th>decision_Month</th>\n",
       "      <th>decision_Week</th>\n",
       "      <th>decision_Day</th>\n",
       "      <th>decision_Dayofweek</th>\n",
       "      <th>decision_Dayofyear</th>\n",
       "      <th>decision_Is_month_end</th>\n",
       "      <th>decision_Is_month_start</th>\n",
       "      <th>decision_Is_quarter_end</th>\n",
       "      <th>decision_Is_quarter_start</th>\n",
       "      <th>decision_Is_year_end</th>\n",
       "      <th>decision_Is_year_start</th>\n",
       "    </tr>\n",
       "  </thead>\n",
       "  <tbody>\n",
       "    <tr>\n",
       "      <th>0</th>\n",
       "      <td>1</td>\n",
       "      <td>28</td>\n",
       "      <td>79</td>\n",
       "      <td>3506</td>\n",
       "      <td>43093</td>\n",
       "      <td>40</td>\n",
       "      <td>1</td>\n",
       "      <td>53</td>\n",
       "      <td>3</td>\n",
       "      <td>2</td>\n",
       "      <td>2012</td>\n",
       "      <td>2</td>\n",
       "      <td>5</td>\n",
       "      <td>1</td>\n",
       "      <td>2</td>\n",
       "      <td>32</td>\n",
       "      <td>0</td>\n",
       "      <td>1</td>\n",
       "      <td>0</td>\n",
       "      <td>0</td>\n",
       "      <td>0</td>\n",
       "      <td>0</td>\n",
       "    </tr>\n",
       "    <tr>\n",
       "      <th>1</th>\n",
       "      <td>0</td>\n",
       "      <td>5</td>\n",
       "      <td>79</td>\n",
       "      <td>749</td>\n",
       "      <td>47833</td>\n",
       "      <td>40</td>\n",
       "      <td>0</td>\n",
       "      <td>338</td>\n",
       "      <td>3</td>\n",
       "      <td>1</td>\n",
       "      <td>2011</td>\n",
       "      <td>12</td>\n",
       "      <td>51</td>\n",
       "      <td>21</td>\n",
       "      <td>2</td>\n",
       "      <td>355</td>\n",
       "      <td>0</td>\n",
       "      <td>0</td>\n",
       "      <td>0</td>\n",
       "      <td>0</td>\n",
       "      <td>0</td>\n",
       "      <td>0</td>\n",
       "    </tr>\n",
       "    <tr>\n",
       "      <th>2</th>\n",
       "      <td>1</td>\n",
       "      <td>19</td>\n",
       "      <td>79</td>\n",
       "      <td>1897</td>\n",
       "      <td>54367</td>\n",
       "      <td>52</td>\n",
       "      <td>0</td>\n",
       "      <td>79</td>\n",
       "      <td>3</td>\n",
       "      <td>1</td>\n",
       "      <td>2011</td>\n",
       "      <td>12</td>\n",
       "      <td>48</td>\n",
       "      <td>1</td>\n",
       "      <td>3</td>\n",
       "      <td>335</td>\n",
       "      <td>0</td>\n",
       "      <td>1</td>\n",
       "      <td>0</td>\n",
       "      <td>0</td>\n",
       "      <td>0</td>\n",
       "      <td>0</td>\n",
       "    </tr>\n",
       "    <tr>\n",
       "      <th>3</th>\n",
       "      <td>1</td>\n",
       "      <td>5</td>\n",
       "      <td>79</td>\n",
       "      <td>1694</td>\n",
       "      <td>18799</td>\n",
       "      <td>40</td>\n",
       "      <td>1</td>\n",
       "      <td>280</td>\n",
       "      <td>3</td>\n",
       "      <td>0</td>\n",
       "      <td>2011</td>\n",
       "      <td>12</td>\n",
       "      <td>48</td>\n",
       "      <td>1</td>\n",
       "      <td>3</td>\n",
       "      <td>335</td>\n",
       "      <td>0</td>\n",
       "      <td>1</td>\n",
       "      <td>0</td>\n",
       "      <td>0</td>\n",
       "      <td>0</td>\n",
       "      <td>0</td>\n",
       "    </tr>\n",
       "    <tr>\n",
       "      <th>4</th>\n",
       "      <td>1</td>\n",
       "      <td>31</td>\n",
       "      <td>79</td>\n",
       "      <td>53</td>\n",
       "      <td>2343</td>\n",
       "      <td>40</td>\n",
       "      <td>3</td>\n",
       "      <td>263</td>\n",
       "      <td>3</td>\n",
       "      <td>3</td>\n",
       "      <td>2012</td>\n",
       "      <td>1</td>\n",
       "      <td>4</td>\n",
       "      <td>26</td>\n",
       "      <td>3</td>\n",
       "      <td>26</td>\n",
       "      <td>0</td>\n",
       "      <td>0</td>\n",
       "      <td>0</td>\n",
       "      <td>0</td>\n",
       "      <td>0</td>\n",
       "      <td>0</td>\n",
       "    </tr>\n",
       "  </tbody>\n",
       "</table>\n",
       "</div>"
      ],
      "text/plain": [
       "   case_status  class_of_admission  country_of_citizenship  employer_city  \\\n",
       "0            1                  28                      79           3506   \n",
       "1            0                   5                      79            749   \n",
       "2            1                  19                      79           1897   \n",
       "3            1                   5                      79           1694   \n",
       "4            1                  31                      79             53   \n",
       "\n",
       "   employer_name  employer_state  pw_level_9089  pw_soc_code  \\\n",
       "0          43093              40              1           53   \n",
       "1          47833              40              0          338   \n",
       "2          54367              52              0           79   \n",
       "3          18799              40              1          280   \n",
       "4           2343              40              3          263   \n",
       "\n",
       "   pw_source_name_9089  remuneration  decision_Year  decision_Month  \\\n",
       "0                    3             2           2012               2   \n",
       "1                    3             1           2011              12   \n",
       "2                    3             1           2011              12   \n",
       "3                    3             0           2011              12   \n",
       "4                    3             3           2012               1   \n",
       "\n",
       "   decision_Week  decision_Day  decision_Dayofweek  decision_Dayofyear  \\\n",
       "0              5             1                   2                  32   \n",
       "1             51            21                   2                 355   \n",
       "2             48             1                   3                 335   \n",
       "3             48             1                   3                 335   \n",
       "4              4            26                   3                  26   \n",
       "\n",
       "   decision_Is_month_end  decision_Is_month_start  decision_Is_quarter_end  \\\n",
       "0                      0                        1                        0   \n",
       "1                      0                        0                        0   \n",
       "2                      0                        1                        0   \n",
       "3                      0                        1                        0   \n",
       "4                      0                        0                        0   \n",
       "\n",
       "   decision_Is_quarter_start  decision_Is_year_end  decision_Is_year_start  \n",
       "0                          0                     0                       0  \n",
       "1                          0                     0                       0  \n",
       "2                          0                     0                       0  \n",
       "3                          0                     0                       0  \n",
       "4                          0                     0                       0  "
      ]
     },
     "execution_count": 42,
     "metadata": {},
     "output_type": "execute_result"
    }
   ],
   "source": [
    "df.head()"
   ]
  },
  {
   "cell_type": "markdown",
   "metadata": {
    "_cell_guid": "f85cb77b-8472-49fc-bf8c-02879951c785",
    "_uuid": "fe1137556c4b5ce29a68eea11157fdea2cae17ae"
   },
   "source": [
    "# Machine Learning\n",
    "\n",
    "_____________________________________"
   ]
  },
  {
   "cell_type": "markdown",
   "metadata": {},
   "source": [
    "The last step of pre-processing is sampling. Firstly, since our dataset has over 350000 observations we will create a helper function for dataframe downsizing. This will significantly improve the computation time required for hyperparamater tuning process in complex algorithms like Random Forest. Next, we will split the dataframe into Labels and Target and finish this section by splitting all data into train/test sets containing 70%/30% of all applications respectively. It is also good practice to perform a split so that the labels are distributed in train and test sets as they are in the original dataset. To achieve this we use the keyword argument: stratify = y"
   ]
  },
  {
   "cell_type": "code",
   "execution_count": 43,
   "metadata": {},
   "outputs": [],
   "source": [
    "# Get a sample of the dataframe\n",
    "def sample(df, num):\n",
    "    index = sorted(np.random.permutation(len(df))[:num])\n",
    "    return df.iloc[index].copy()"
   ]
  },
  {
   "cell_type": "code",
   "execution_count": 44,
   "metadata": {
    "_cell_guid": "f199063d-1578-425b-a282-c5e42d986a19",
    "_uuid": "41b61502a4a5209954cfc5a09b1f9467f49e3c11"
   },
   "outputs": [
    {
     "name": "stdout",
     "output_type": "stream",
     "text": [
      "The shape of X is: (356168, 21)\n",
      "The shape of y is: (356168,)\n"
     ]
    }
   ],
   "source": [
    "#Dividing our final dataset into features(explanatory variables) and labels(target variable)\n",
    "X = df.loc[:, df.columns != 'case_status']\n",
    "y = df.case_status\n",
    "\n",
    "print(\"The shape of X is: {}\".format(X.shape))\n",
    "print(\"The shape of y is: {}\".format(y.shape))"
   ]
  },
  {
   "cell_type": "code",
   "execution_count": 45,
   "metadata": {},
   "outputs": [],
   "source": [
    "X_train, X_test, y_train, y_test = train_test_split(X, y, test_size = 0.3, shuffle = True, stratify = y, random_state = 123)"
   ]
  },
  {
   "cell_type": "markdown",
   "metadata": {},
   "source": [
    "## Metrics"
   ]
  },
  {
   "cell_type": "markdown",
   "metadata": {},
   "source": [
    "It is important to choose appropriate metric for a project.\n",
    "\n",
    "In classification, to measure model performance, accuracy is a commonly-used metric. It tells us what is a fraction of correctly classified samples. However, accuracy is not always the most effective metric. In our problem, about 92.8% of applications received positive decision. We can build a baseline model that classifies all applications as 'Certified'. This model would be correct 92.8% of the time and thus have an accuracy of 92.8%.\n",
    "\n",
    "In that case, this naive classifier would do a horrible job of predicting Visa applications decisions. It never makes such prediction, so it completely fails at its original purpose. The situation, when one class occurs more frequent is called class imbalance and requires a more nuanced metric to assess the performance of our models.\n",
    "\n",
    "Given a binary classification task, we can draw up a confusion matrix that summarizes predictive performance. It is 2x2 matrix providing us with following rates:\n",
    "\n",
    "True Positive - the number of Visa applications correctly predicted as Certified\n",
    "\n",
    "True Negative - the number of Visa applications correctly predicted as Denied\n",
    "\n",
    "False Negative - the number of Visa applications incorrectly predicted as Denied(type II error)\n",
    "\n",
    "False Positive - the number of Visa applications incorrectly predicted as Certified (type I error)\n",
    "\n",
    "Another useful metrics used for assessing model's accuracy are precision, recall and F1 score.\n",
    "\n",
    "Precision(P) - in a classification task, the precision for a class is the number of true positives (i.e. the number of items correctly labeled as belonging to the positive class) divided by the total number of elements labeled as belonging to the positive class (i.e. the sum of true positives and false positives, which are items incorrectly labeled as belonging to the class).\n",
    "\n",
    "Recall(R) - in this context is defined as the number of true positives divided by the total number of elements that actually belong to the positive class (i.e. the sum of true positives and false negatives, which are items which were not labeled as belonging to the positive class but should have been).\n",
    "\n",
    "In information retrieval, a perfect precision score of 1.0 means that every result retrieved by a search was relevant (but says nothing about whether all relevant documents were retrieved) whereas a perfect recall score of 1.0 means that all relevant documents were retrieved by the search (but says nothing about how many irrelevant documents were also retrieved).\n",
    "\n",
    "The ROC curve helps us choose the best probability threshold to achieve optimal True Positive / False Positive ratio. The larger area under ROC curve, the better our model is. This area is commonly denoted as AUC, and this is another metric for classification models. In this research, I consider AUC as the metric that determines the overall performance of a model, and thus I will do my best to achieve as high result as possible. On top of that, I will try to minimize False Negative rate.\n",
    "\n",
    "Now, we will create a few helper functions to call them later for making a summary of each model."
   ]
  },
  {
   "cell_type": "code",
   "execution_count": 46,
   "metadata": {},
   "outputs": [],
   "source": [
    "def print_score(a):\n",
    "    \n",
    "    # Computing and printing accuracy for training and test set\n",
    "    print(\"Training accuracy: {}, Test accuracy: {}\".format(a.score(X_train, y_train), a.score(X_test, y_test)))\n",
    "    \n",
    "    # Computing predicted probabilities: y_pred_prob\n",
    "    y_pred_prob = a.predict_proba(X_test)[:,1]\n",
    "\n",
    "    # Computing and printing AUC score\n",
    "    print(\"AUC: {}\".format(roc_auc_score(y_test, y_pred_prob)))"
   ]
  },
  {
   "cell_type": "code",
   "execution_count": 47,
   "metadata": {},
   "outputs": [],
   "source": [
    "def report(a):\n",
    "        \n",
    "    # Computing predictions on test set\n",
    "    y_pred = a.predict(X_test)\n",
    "    \n",
    "    # Printing classification report\n",
    "    print(\"Classification Report:\\n{}\".format(classification_report(y_test, y_pred)))\n",
    "    \n",
    "    # Calculating confusion matrix\n",
    "    confmat = confusion_matrix(y_test, y_pred)\n",
    "    \n",
    "    print(\"True negatives: {}  |  False negatives: {}  |  True positives: {}  |  False positives: {}\".format(confmat[0,0], confmat[1,0], confmat[1,1], confmat[0,1]))    "
   ]
  },
  {
   "cell_type": "code",
   "execution_count": 48,
   "metadata": {},
   "outputs": [],
   "source": [
    "def plot_ROC(a):\n",
    "\n",
    "    # Computing predicted probabilities: y_pred_prob\n",
    "    y_pred_prob = a.predict_proba(X_test)[:,1]\n",
    "\n",
    "    # Generating ROC curve values: fpr, tpr, thresholds\n",
    "    fpr, tpr, thresholds = roc_curve(y_test, y_pred_prob)\n",
    "\n",
    "    # Plotting ROC curve\n",
    "    plt.plot([0, 1], [0, 1], 'k--')\n",
    "    plt.plot(fpr, tpr)\n",
    "    plt.xlabel('False Positive Rate')\n",
    "    plt.ylabel('True Positive Rate')\n",
    "    plt.title('ROC Curve')\n",
    "    plt.show()"
   ]
  },
  {
   "cell_type": "markdown",
   "metadata": {
    "_cell_guid": "6dccffd1-4aac-452b-ac6b-677dfd96e054",
    "_uuid": "ef19a7ad238fcdd9b4202278b9450e6457e13c39"
   },
   "source": [
    "## Logistic Regression "
   ]
  },
  {
   "cell_type": "code",
   "execution_count": 49,
   "metadata": {},
   "outputs": [
    {
     "name": "stdout",
     "output_type": "stream",
     "text": [
      "Wall time: 1.92 s\n",
      "Training accuracy: 0.9280634693983965, Test accuracy: 0.9280212632544385\n",
      "AUC: 0.6382498757348276\n"
     ]
    }
   ],
   "source": [
    "logreg_clf = LogisticRegression(random_state= 123, max_iter = 200)\n",
    "\n",
    "# Fiting the model\n",
    "%time logreg_clf.fit(X_train, y_train)\n",
    "\n",
    "# Printing accuracy metrics\n",
    "print_score(logreg_clf)"
   ]
  },
  {
   "cell_type": "markdown",
   "metadata": {},
   "source": [
    "This is our first model and at the same time a kind of benchmark for next ones. Accuracy of about 92.8% and low AUC suggests that the model is quite weak and requires further enhancements."
   ]
  },
  {
   "cell_type": "code",
   "execution_count": 50,
   "metadata": {},
   "outputs": [
    {
     "name": "stdout",
     "output_type": "stream",
     "text": [
      "Classification Report:\n",
      "             precision    recall  f1-score   support\n",
      "\n",
      "          0       1.00      0.00      0.00      7695\n",
      "          1       0.93      1.00      0.96     99156\n",
      "\n",
      "avg / total       0.93      0.93      0.89    106851\n",
      "\n",
      "True negatives: 4  |  False negatives: 0  |  True positives: 99156  |  False positives: 7691\n"
     ]
    }
   ],
   "source": [
    "# Displaying a classification report and a confusion matrix\n",
    "report(logreg_clf)"
   ]
  },
  {
   "cell_type": "markdown",
   "metadata": {},
   "source": [
    "Now let's create a smaller sample from our dataset which we will use for finding optimal hyperparameter values using GridSearchCV object."
   ]
  },
  {
   "cell_type": "code",
   "execution_count": 51,
   "metadata": {},
   "outputs": [],
   "source": [
    "# Creating downsized dataframe using 'sample' function\n",
    "df_small = sample(df, 50000)\n",
    "\n",
    "# Dropping the dependent variable from the downsized dataset\n",
    "X = df_small.drop(['case_status'], axis=1)\n",
    "\n",
    "# Extracting the dependent variable into a separate variable\n",
    "y = df_small['case_status']\n",
    "\n",
    "# Splitting the dataframe\n",
    "X_train, X_test, y_train, y_test = train_test_split(X, y, test_size = 0.3, random_state = 1616, stratify = y)"
   ]
  },
  {
   "cell_type": "code",
   "execution_count": 52,
   "metadata": {
    "_uuid": "7befe2dbd52cc4998cce577e77554d5f141f223d"
   },
   "outputs": [
    {
     "name": "stdout",
     "output_type": "stream",
     "text": [
      "Wall time: 1min 17s\n"
     ]
    },
    {
     "data": {
      "text/plain": [
       "GridSearchCV(cv=5, error_score='raise',\n",
       "       estimator=LogisticRegression(C=1.0, class_weight=None, dual=False, fit_intercept=True,\n",
       "          intercept_scaling=1, max_iter=200, multi_class='ovr', n_jobs=1,\n",
       "          penalty='l2', random_state=None, solver='liblinear', tol=0.0001,\n",
       "          verbose=0, warm_start=False),\n",
       "       fit_params=None, iid=True, n_jobs=-1,\n",
       "       param_grid={'C': [0.001, 0.01, 0.1, 1, 10, 100], 'solver': ['liblinear', 'saga'], 'penalty': ['l1', 'l2']},\n",
       "       pre_dispatch='2*n_jobs', refit=True, return_train_score='warn',\n",
       "       scoring=None, verbose=0)"
      ]
     },
     "execution_count": 52,
     "metadata": {},
     "output_type": "execute_result"
    }
   ],
   "source": [
    "# To perform hyperparameter optimisation a list of multiple elements will be entered and the optimal value in that list will be picked using Grid Search object\n",
    "logreg_params = {'C': [0.001, 0.01, 0.1, 1, 10, 100],\n",
    "                'solver': ['liblinear', 'saga'],\n",
    "                'penalty': ['l1', 'l2']}\n",
    "\n",
    "# Instantiating \"GridSearchCV\" object and fitting it into small data\n",
    "cv_lr = GridSearchCV(estimator = LogisticRegression(max_iter = 200), param_grid = logreg_params, cv = 5, n_jobs = -1)\n",
    "%time cv_lr.fit(X_train, y_train)"
   ]
  },
  {
   "cell_type": "code",
   "execution_count": 53,
   "metadata": {},
   "outputs": [
    {
     "data": {
      "text/plain": [
       "{'C': 1, 'penalty': 'l2', 'solver': 'liblinear'}"
      ]
     },
     "execution_count": 53,
     "metadata": {},
     "output_type": "execute_result"
    }
   ],
   "source": [
    "# Checking the best parameters\n",
    "cv_lr.best_params_"
   ]
  },
  {
   "cell_type": "code",
   "execution_count": 54,
   "metadata": {},
   "outputs": [
    {
     "name": "stdout",
     "output_type": "stream",
     "text": [
      "Wall time: 279 ms\n",
      "Training accuracy: 0.9270571428571428, Test accuracy: 0.927\n",
      "AUC: 0.6434859812330398\n"
     ]
    }
   ],
   "source": [
    "logreg_clf = LogisticRegression(penalty='l2', C = 1, solver = 'liblinear', max_iter= 200, random_state = 1616)\n",
    "\n",
    "# Fiting the model\n",
    "%time logreg_clf.fit(X_train, y_train)\n",
    "\n",
    "# Printing accuracy metrics\n",
    "print_score(logreg_clf)"
   ]
  },
  {
   "cell_type": "code",
   "execution_count": 55,
   "metadata": {},
   "outputs": [
    {
     "name": "stdout",
     "output_type": "stream",
     "text": [
      "Classification Report:\n",
      "             precision    recall  f1-score   support\n",
      "\n",
      "          0       1.00      0.00      0.00      1097\n",
      "          1       0.93      1.00      0.96     13903\n",
      "\n",
      "avg / total       0.93      0.93      0.89     15000\n",
      "\n",
      "True negatives: 2  |  False negatives: 0  |  True positives: 13903  |  False positives: 1095\n"
     ]
    }
   ],
   "source": [
    "# Displaying a classification report and a confusion matrix\n",
    "report(logreg_clf)"
   ]
  },
  {
   "cell_type": "markdown",
   "metadata": {
    "_cell_guid": "0dcb7aff-23b1-4d79-9a07-087a6f8babe3",
    "_uuid": "82886a163108bd0f9a065684dd462f68ca3c99de"
   },
   "source": [
    "As we can see, the Logistic Regression Classifier achieves 92.8% accuracy on both training and testing datasets which could sound like a good score, however AUC = 0.64 means that there is a lot of confusion in our model. Now, let's check if we could beat this score using k-Nearest Neighbors classifier."
   ]
  },
  {
   "cell_type": "markdown",
   "metadata": {
    "_cell_guid": "29524708-9f98-4c67-bab6-cc6e8e1288fc",
    "_uuid": "4dbaf5f5a9953e43d3b99c4f5a8b05f466c27e7d"
   },
   "source": [
    "## k-Nearest Neighbors"
   ]
  },
  {
   "cell_type": "code",
   "execution_count": 56,
   "metadata": {
    "_cell_guid": "2e3a3afc-0fcd-4678-9a85-439ecdd3dc75",
    "_uuid": "0234a3c72841e1dcc4a3356f55741c6d159d5a9a"
   },
   "outputs": [
    {
     "name": "stdout",
     "output_type": "stream",
     "text": [
      "Wall time: 3min 33s\n"
     ]
    },
    {
     "data": {
      "text/plain": [
       "GridSearchCV(cv=5, error_score='raise',\n",
       "       estimator=KNeighborsClassifier(algorithm='auto', leaf_size=30, metric='minkowski',\n",
       "           metric_params=None, n_jobs=1, n_neighbors=5, p=2,\n",
       "           weights='uniform'),\n",
       "       fit_params=None, iid=True, n_jobs=-1,\n",
       "       param_grid={'n_neighbors': range(1, 11), 'algorithm': ['auto'], 'p': [1, 2], 'leaf_size': range(10, 20)},\n",
       "       pre_dispatch='2*n_jobs', refit=True, return_train_score='warn',\n",
       "       scoring=None, verbose=0)"
      ]
     },
     "execution_count": 56,
     "metadata": {},
     "output_type": "execute_result"
    }
   ],
   "source": [
    "#Defining range of parameters for kNN Clssifier\n",
    "knn_params = {'n_neighbors': range(1,11),\n",
    "             'algorithm': ['auto'],\n",
    "             'p': [1,2],\n",
    "             'leaf_size': range(10,20)}\n",
    "\n",
    "# Instantiating \"GridSearchCV\" object and fitting it into sample\n",
    "cv_knn = GridSearchCV(estimator = KNeighborsClassifier(), param_grid = knn_params, cv = 5, n_jobs = -1)\n",
    "%time cv_knn.fit(X_train, y_train)"
   ]
  },
  {
   "cell_type": "code",
   "execution_count": 57,
   "metadata": {},
   "outputs": [
    {
     "data": {
      "text/plain": [
       "{'algorithm': 'auto', 'leaf_size': 10, 'n_neighbors': 7, 'p': 1}"
      ]
     },
     "execution_count": 57,
     "metadata": {},
     "output_type": "execute_result"
    }
   ],
   "source": [
    "# Checking the best parameters\n",
    "cv_knn.best_params_"
   ]
  },
  {
   "cell_type": "code",
   "execution_count": 58,
   "metadata": {},
   "outputs": [
    {
     "name": "stdout",
     "output_type": "stream",
     "text": [
      "Wall time: 115 ms\n",
      "Training accuracy: 0.9323428571428571, Test accuracy: 0.9280666666666667\n",
      "AUC: 0.6385527909842325\n"
     ]
    }
   ],
   "source": [
    "knn_clf = KNeighborsClassifier(algorithm= 'auto', n_neighbors= 7, p = 1,  leaf_size = 10)\n",
    "\n",
    "# Fiting the model\n",
    "%time knn_clf.fit(X_train, y_train)\n",
    "\n",
    "# Printing accuracy metrics\n",
    "print_score(knn_clf)"
   ]
  },
  {
   "cell_type": "code",
   "execution_count": 59,
   "metadata": {},
   "outputs": [
    {
     "name": "stdout",
     "output_type": "stream",
     "text": [
      "Classification Report:\n",
      "             precision    recall  f1-score   support\n",
      "\n",
      "          0       0.55      0.08      0.15      1097\n",
      "          1       0.93      0.99      0.96     13903\n",
      "\n",
      "avg / total       0.90      0.93      0.90     15000\n",
      "\n",
      "True negatives: 92  |  False negatives: 74  |  True positives: 13829  |  False positives: 1005\n"
     ]
    }
   ],
   "source": [
    "# Displaying a classification report and a confusion matrix\n",
    "report(knn_clf)"
   ]
  },
  {
   "cell_type": "markdown",
   "metadata": {
    "_cell_guid": "db9b07e3-ea57-457a-aa11-b83c847b0b0e",
    "_uuid": "da2e16ca889d2e71a7a7d8c79ea2236332313d65"
   },
   "source": [
    "According to the output of 'print_score' function k-Nearest Neighbors Classifier achieved similar results to the Logistic Regression Classifier. Even accuracy is the same, there are differences in Precision, Recall, True Positive, True Negative, False Positive and False Negative values. Now, let's check, how precise the Random Forest Classifier can be."
   ]
  },
  {
   "cell_type": "markdown",
   "metadata": {
    "_cell_guid": "e818fa28-5520-4b05-a57e-b53284f7c240",
    "_uuid": "1fc1e61e25f921be60b3648c118e9a6cb7efd2ba"
   },
   "source": [
    "## Random Forests"
   ]
  },
  {
   "cell_type": "code",
   "execution_count": 60,
   "metadata": {
    "_cell_guid": "fb8ed8ff-3ce1-4ba7-b0b1-8816a3b438a5",
    "_uuid": "d6f87030be1a843358ec2aa86d1b65a18d5258fe"
   },
   "outputs": [
    {
     "name": "stdout",
     "output_type": "stream",
     "text": [
      "Wall time: 1min 39s\n"
     ]
    },
    {
     "data": {
      "text/plain": [
       "GridSearchCV(cv=3, error_score='raise',\n",
       "       estimator=RandomForestClassifier(bootstrap=True, class_weight=None, criterion='gini',\n",
       "            max_depth=None, max_features='auto', max_leaf_nodes=None,\n",
       "            min_impurity_decrease=0.0, min_impurity_split=None,\n",
       "            min_samples_leaf=1, min_samples_split=2,\n",
       "            min_weight_fraction_leaf=0.0, n_estimators=40, n_jobs=1,\n",
       "            oob_score=False, random_state=None, verbose=0,\n",
       "            warm_start=False),\n",
       "       fit_params=None, iid=True, n_jobs=-1,\n",
       "       param_grid={'max_depth': range(3, 12), 'max_features': ['sqrt', 'log2', 0.5], 'min_samples_leaf': range(1, 6), 'random_state': [456]},\n",
       "       pre_dispatch='2*n_jobs', refit=True, return_train_score='warn',\n",
       "       scoring=None, verbose=0)"
      ]
     },
     "execution_count": 60,
     "metadata": {},
     "output_type": "execute_result"
    }
   ],
   "source": [
    "#Defining range of parameters for Random Forest Clssifier\n",
    "forest_params = {\n",
    "     'max_depth': range(3,12),\n",
    "     'max_features': ['sqrt', 'log2', 0.5],\n",
    "     'min_samples_leaf': range(1,6),\n",
    "     'random_state': [456]\n",
    "    }\n",
    "  \n",
    "    \n",
    "# Instantiating \"GridSearchCV\" object and fitting it into sample\n",
    "cv_rf = GridSearchCV(estimator = RandomForestClassifier(n_estimators = 40), param_grid = forest_params, cv = 3, n_jobs = -1)\n",
    "%time cv_rf.fit(X_train, y_train)"
   ]
  },
  {
   "cell_type": "code",
   "execution_count": 61,
   "metadata": {},
   "outputs": [
    {
     "data": {
      "text/plain": [
       "{'max_depth': 11,\n",
       " 'max_features': 0.5,\n",
       " 'min_samples_leaf': 2,\n",
       " 'random_state': 456}"
      ]
     },
     "execution_count": 61,
     "metadata": {},
     "output_type": "execute_result"
    }
   ],
   "source": [
    "# Checking the best parameters\n",
    "cv_rf.best_params_"
   ]
  },
  {
   "cell_type": "code",
   "execution_count": 62,
   "metadata": {},
   "outputs": [
    {
     "name": "stdout",
     "output_type": "stream",
     "text": [
      "Wall time: 59.6 s\n",
      "Training accuracy: 0.9446, Test accuracy: 0.9337333333333333\n",
      "AUC: 0.7865209603378428\n"
     ]
    }
   ],
   "source": [
    "rf_clf = RandomForestClassifier(n_estimators = 1000, max_depth = 11, max_features = 0.5, min_samples_leaf = 2, random_state = 456)\n",
    "\n",
    "# Fiting the model\n",
    "%time rf_clf.fit(X_train, y_train)\n",
    "\n",
    "# Printing accuracy metrics\n",
    "print_score(rf_clf)"
   ]
  },
  {
   "cell_type": "code",
   "execution_count": 63,
   "metadata": {},
   "outputs": [
    {
     "name": "stdout",
     "output_type": "stream",
     "text": [
      "Classification Report:\n",
      "             precision    recall  f1-score   support\n",
      "\n",
      "          0       0.81      0.12      0.21      1097\n",
      "          1       0.94      1.00      0.97     13903\n",
      "\n",
      "avg / total       0.93      0.93      0.91     15000\n",
      "\n",
      "True negatives: 135  |  False negatives: 32  |  True positives: 13871  |  False positives: 962\n"
     ]
    }
   ],
   "source": [
    "# Displaying a classification report and a confusion matrix\n",
    "report(rf_clf)"
   ]
  },
  {
   "cell_type": "markdown",
   "metadata": {
    "_cell_guid": "42374cb5-9c90-4d07-95e5-159606dd5212",
    "_uuid": "cf5def4c4232d1155e8316f65721706e292829cd",
    "collapsed": true
   },
   "source": [
    "Even the Random Forest Classifier achieved slightly better accuracy than Logistic Regression and k-Nearest Neighbors Classifiers it was able to increase the AUC by 14 % !!!. The distribution of True Positives, True Negatives, False Positives and False Negatives is better than for previously tested algorithms. We could try to build more precise model by adjusting the hyperparameters, but we should bear in mind that this is very computationally expensive. As the last ML algorithm, we will try Gradient Boosted Machines which are another ensemble method implemented in scikit-learn. The main idea behind this algorithm is to combine multiple decision trees which in contrast to these used in Random Forest classifier are working in a serial manner, where each tree tries to correct the mistakes of the previous one.  "
   ]
  },
  {
   "cell_type": "markdown",
   "metadata": {
    "_cell_guid": "84a040b0-7203-4aa3-8ef3-0d57e4c92167",
    "_uuid": "cd75dd8b0271ff7208e564a8c39149b67ae9f9f9"
   },
   "source": [
    "## Gradient Boosted Decision Trees"
   ]
  },
  {
   "cell_type": "code",
   "execution_count": 64,
   "metadata": {
    "_cell_guid": "c00f161d-0415-4ae1-9660-7b211c447105",
    "_uuid": "086e81019ba8e7c6b9c63e24c057e94ba878e1f1"
   },
   "outputs": [
    {
     "name": "stdout",
     "output_type": "stream",
     "text": [
      "Wall time: 2min 47s\n"
     ]
    },
    {
     "data": {
      "text/plain": [
       "GridSearchCV(cv=3, error_score='raise',\n",
       "       estimator=GradientBoostingClassifier(criterion='friedman_mse', init=None,\n",
       "              learning_rate=0.1, loss='deviance', max_depth=3,\n",
       "              max_features=None, max_leaf_nodes=None,\n",
       "              min_impurity_decrease=0.0, min_impurity_split=None,\n",
       "              min_samples_leaf=1, min_samples_split=2,\n",
       "              min_weight_fraction_leaf=0.0, n_estimators=40,\n",
       "              presort='auto', random_state=None, subsample=1.0, verbose=0,\n",
       "              warm_start=False),\n",
       "       fit_params=None, iid=True, n_jobs=-1,\n",
       "       param_grid={'max_depth': range(1, 6), 'max_features': ['log2', 'sqrt', 'auto', 0.5], 'min_samples_leaf': range(5, 11), 'learning_rate': [0.1, 0.2, 0.3], 'random_state': [456]},\n",
       "       pre_dispatch='2*n_jobs', refit=True, return_train_score='warn',\n",
       "       scoring=None, verbose=0)"
      ]
     },
     "execution_count": 64,
     "metadata": {},
     "output_type": "execute_result"
    }
   ],
   "source": [
    "#Defining range of parameters for Gradient Boosting Clssifier\n",
    "gradient_params = {\n",
    "     'max_depth': range(1,6),\n",
    "     'max_features': ['log2', 'sqrt', 'auto', 0.5],\n",
    "     'min_samples_leaf': range(5,11),\n",
    "     'learning_rate': [0.1, 0.2, 0.3],\n",
    "     'random_state': [456]\n",
    "    }\n",
    "\n",
    "# Instantiating \"GridSearchCV\" object and fitting it into sample\n",
    "cv_gbdt = GridSearchCV(estimator = GradientBoostingClassifier(n_estimators = 40), param_grid = gradient_params, cv = 3, n_jobs = -1)\n",
    "%time cv_gbdt.fit(X_train, y_train)"
   ]
  },
  {
   "cell_type": "code",
   "execution_count": 65,
   "metadata": {},
   "outputs": [
    {
     "data": {
      "text/plain": [
       "{'learning_rate': 0.2,\n",
       " 'max_depth': 5,\n",
       " 'max_features': 'auto',\n",
       " 'min_samples_leaf': 8,\n",
       " 'random_state': 456}"
      ]
     },
     "execution_count": 65,
     "metadata": {},
     "output_type": "execute_result"
    }
   ],
   "source": [
    "# Checking the best parameters\n",
    "cv_gbdt.best_params_"
   ]
  },
  {
   "cell_type": "code",
   "execution_count": 66,
   "metadata": {},
   "outputs": [
    {
     "name": "stdout",
     "output_type": "stream",
     "text": [
      "Wall time: 48 s\n",
      "Training accuracy: 0.995, Test accuracy: 0.9314666666666667\n",
      "AUC: 0.7599072123032935\n"
     ]
    }
   ],
   "source": [
    "gbdt_clf = GradientBoostingClassifier(n_estimators = 1000, learning_rate = 0.2, max_depth = 5, max_features = 'auto', min_samples_leaf = 8, random_state = 456)\n",
    "\n",
    "# Fiting the model\n",
    "%time gbdt_clf.fit(X_train, y_train)\n",
    "\n",
    "# Printing accuracy metrics\n",
    "print_score(gbdt_clf)"
   ]
  },
  {
   "cell_type": "code",
   "execution_count": 67,
   "metadata": {},
   "outputs": [
    {
     "name": "stdout",
     "output_type": "stream",
     "text": [
      "Classification Report:\n",
      "             precision    recall  f1-score   support\n",
      "\n",
      "          0       0.58      0.23      0.33      1097\n",
      "          1       0.94      0.99      0.96     13903\n",
      "\n",
      "avg / total       0.92      0.93      0.92     15000\n",
      "\n",
      "True negatives: 250  |  False negatives: 181  |  True positives: 13722  |  False positives: 847\n"
     ]
    }
   ],
   "source": [
    "# Displaying a classification report and a confusion matrix\n",
    "report(gbdt_clf)"
   ]
  },
  {
   "cell_type": "markdown",
   "metadata": {
    "_uuid": "c5c2d2819339e6bd226d52f7051c63fbac776533"
   },
   "source": [
    "As previously, we achieved similar accuracy of about 93% on the testing dataset, but this result could be higher, if we tried different values of hyperparameters or another approach to data divison - using the dataset with balanced classes(the same number of Certified and Denied applications). The main idea behind gradient boosting is to combine many simple models(trees) where each tree can only provide good predictions on part of the data, and so more and more trees are added to iteratively improve performance. Gradient Boosted Trees are frequently winning entries in machine learning competitions. Except from the number of trees in the ensemble, another important parameter for this algorithm is \"learning_rate\" which controls how strongly each tree tries to correct the mistakes of the previous trees. \n",
    "\n",
    "Finally, since the Gradient Boosted Decision Trees algorithm made less type I errors and achieved similar accuracy and AUC score to the Random Forest Classifier, we'll train it on the whole dataset to find out which features were the most important ones in obtatining a US Permanent Visa."
   ]
  },
  {
   "cell_type": "code",
   "execution_count": 68,
   "metadata": {},
   "outputs": [],
   "source": [
    "# Dropping the dependent variable from the downsized dataset\n",
    "X = df.drop(['case_status'], axis=1)\n",
    "\n",
    "# Extracting the dependent variable into a separate variable\n",
    "y = df['case_status']\n",
    "\n",
    "# Splitting the dataframe\n",
    "X_train, X_test, y_train, y_test = train_test_split(X, y, test_size = 0.2, random_state = 1616, stratify = y)"
   ]
  },
  {
   "cell_type": "code",
   "execution_count": 69,
   "metadata": {},
   "outputs": [
    {
     "name": "stdout",
     "output_type": "stream",
     "text": [
      "Wall time: 9min 42s\n",
      "Training accuracy: 0.9576638800564341, Test accuracy: 0.9422607181963669\n",
      "AUC: 0.858366574414373\n"
     ]
    }
   ],
   "source": [
    "final_clf = GradientBoostingClassifier(n_estimators = 1000, learning_rate = 0.2, max_depth = 5, max_features = 'auto', min_samples_leaf = 9, random_state = 456)\n",
    "\n",
    "# Fiting the model\n",
    "%time final_clf.fit(X_train, y_train)\n",
    "\n",
    "# Printing accuracy metrics\n",
    "print_score(final_clf)"
   ]
  },
  {
   "cell_type": "code",
   "execution_count": 72,
   "metadata": {},
   "outputs": [
    {
     "name": "stdout",
     "output_type": "stream",
     "text": [
      "Classification Report:\n",
      "             precision    recall  f1-score   support\n",
      "\n",
      "          0       0.76      0.29      0.42      5130\n",
      "          1       0.95      0.99      0.97     66104\n",
      "\n",
      "avg / total       0.93      0.94      0.93     71234\n",
      "\n",
      "True negatives: 1469  |  False negatives: 452  |  True positives: 65652  |  False positives: 3661\n"
     ]
    }
   ],
   "source": [
    "# Displaying a classification report and a confusion matrix\n",
    "report(final_clf)"
   ]
  },
  {
   "cell_type": "code",
   "execution_count": 73,
   "metadata": {},
   "outputs": [
    {
     "data": {
      "image/png": "[encoded data removed]",
      "text/plain": [
       "<matplotlib.figure.Figure at 0xdcc8a90>"
      ]
     },
     "metadata": {},
     "output_type": "display_data"
    }
   ],
   "source": [
    "from helper import plot_feat_imp\n",
    "\n",
    "plot_feat_imp(final_clf, X_train, boundary = None)"
   ]
  },
  {
   "cell_type": "markdown",
   "metadata": {
    "_uuid": "d3b3e5c9464169d52bd65d2bea8a5ca8dc65a237"
   },
   "source": [
    "According to the feature importances returned by Gradient Boosted Decision Trees obtaining a permanent US Visa depends highly on:\n",
    "\n",
    "- employer_name\n",
    "- pw_soc_code\n",
    "- employer_city\n",
    "- decision_Dayofyear\n",
    "- decision_Year\n",
    "- decision_Day\n",
    "- employer_state\n",
    "- country_of_citizenship\n",
    "\n",
    "Training the final classifier on the whole dataset increased training time, testing accuracy to 94.2% and AUC to nearly 86%. This result is not satisfying, we could try improving it by dividing the whole dataset in such a way that it contains an identical number of Certified and Denied aplications since it is possible to build a good Machine Learning model having only few thousands of observations. Proceeding that way would possibly leave us having more features hence bring us closer to achieving more accurate predictions. "
   ]
  }
 ],
 "metadata": {
  "kernelspec": {
   "display_name": "Python 3",
   "language": "python",
   "name": "python3"
  },
  "language_info": {
   "codemirror_mode": {
    "name": "ipython",
    "version": 3
   },
   "file_extension": ".py",
   "mimetype": "text/x-python",
   "name": "python",
   "nbconvert_exporter": "python",
   "pygments_lexer": "ipython3",
   "version": "3.6.4"
  }
 },
 "nbformat": 4,
 "nbformat_minor": 1
}
